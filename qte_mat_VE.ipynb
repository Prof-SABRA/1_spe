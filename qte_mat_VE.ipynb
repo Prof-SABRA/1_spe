{
 "cells": [
  {
   "cell_type": "markdown",
   "id": "3d3c4953-ec32-4792-945f-c1cc55166624",
   "metadata": {
    "tags": []
   },
   "source": [
    "<h1 align=\"center\" style=\"font-size:40px\"> AN: Un volume particulier. </h1> "
   ]
  },
  {
   "cell_type": "markdown",
   "id": "c4c7b99e-6b6e-4bc2-9a68-e46ceadc8d17",
   "metadata": {
    "tags": []
   },
   "source": [
    "<div class=\"alert alert-block alert-danger\">\n",
    "    <b>CONSIGNES GENERALES</b>\n",
    "     <ul>\n",
    "        <li> Lire les consignes dans les cellules bleues. </li>\n",
    "        <li> Les aides (cellules vertes) et les solutions (cellules jaunes)ne sont à utiliser qu'après avoir vraiment essayé de compléter le code. </li>\n",
    "         <li> Exécuter les cellules (CTRL + ENTRÉE) avant de passer à la suite.\n",
    "    </ul>\n",
    "</div>"
   ]
  },
  {
   "cell_type": "markdown",
   "id": "aa5cd74f-9f4a-485c-baf1-4e24bf882138",
   "metadata": {},
   "source": [
    "<img src=\"titrage_A_B.jpg\" style=\"width:20%; margin-left: auto;margin-right: auto;\">"
   ]
  },
  {
   "cell_type": "markdown",
   "id": "adfbb611-d195-49ad-aadf-44106fb891ab",
   "metadata": {},
   "source": [
    "$$aA + bB \\longrightarrow cC + dD$$"
   ]
  },
  {
   "cell_type": "markdown",
   "id": "22ec257a-5cf8-4262-9ec0-70137101710c",
   "metadata": {
    "tags": []
   },
   "source": [
    "<div class=\"alert alert-block alert-info\">\n",
    "    <b> Consignes </b>\n",
    "    <p> On définit deux fonctions permettant de calculer l'avancement maximale selon la nature du réactif limitant. A l'aide du tableau d'avancement et en s'inspirant de le fonction avt_stoechio, compléter les lignes 20 à 24\n",
    "</div>"
   ]
  },
  {
   "cell_type": "code",
   "execution_count": null,
   "id": "736bd219-06d5-4840-a20c-f41bc74a42b3",
   "metadata": {},
   "outputs": [],
   "source": [
    "def avt_stoechio(Ca, Va, Cb, Vb, a, b, c, d):\n",
    "    '''fonction prenant en argument les volumes les concentration et les nombres\n",
    "    stœchiométriques et renvoyant les quantités de matières des réactifs et des produits\n",
    "    à l'état final.\n",
    "    Valable uniquement si B est le réactif limitant'''\n",
    "    xmax = Cb * Vb / b\n",
    "    nA = Ca * Va - a  * xmax\n",
    "    nB = 0\n",
    "    nC= c * xmax\n",
    "    nD = d * xmax\n",
    "    return nA, nB, nC, nD\n",
    "\n",
    "def ap_stoechio(Ca, Va, Cb, Vb,a , b, c, d):\n",
    "    '''fonction prenant en argument les volumes les concentration et les nombres\n",
    "    stœchiométriques et renvoyant les quantités de matières des réactifs et des produits\n",
    "    à l'état final.\n",
    "    Valable uniquement si A est le réactif limitant'''\n",
    "    xmax = ... * ... / ...\n",
    "    nA = \n",
    "    nB = ... * ... - ... * ...\n",
    "    nC = ... * ...\n",
    "    nD = ... * ...\n",
    "    return nA, nB, nC, nD"
   ]
  },
  {
   "cell_type": "markdown",
   "id": "72284796-9f80-4c86-9a6a-9a913419d58b",
   "metadata": {
    "tags": []
   },
   "source": [
    "<div class=\"alert alert-block alert-success\">\n",
    "    <details>\n",
    "        <summary> <b> Aides </b> </summary>\n",
    "        <ul>\n",
    "            <li> <b> ligne 18 : </b> exprimer $x_{max}$ en fonction de $n_i(A)$ et de a puis en fonction de $c_A$ et $V_A$ </li>\n",
    "            <li> $ n = c \\times V$</li>\n",
    "            <li> <b> Autres lignes </b>: voir le tableau d'avancement  </li>\n",
    "        </ul>\n",
    "    </details>\n",
    "</div>"
   ]
  },
  {
   "cell_type": "markdown",
   "id": "c0f5101d-b31b-45d3-a523-952fe940bd3a",
   "metadata": {},
   "source": [
    "<div class=\"alert alert-block alert-warning\">\n",
    " <details>\n",
    "        <summary> <b> Solution </b> </summary>\n",
    "     \n",
    " \n",
    "<pre>xmax = Ca * Va / a\n",
    "nA = 0        \n",
    "nB = Cb * Vb - b * xmax\n",
    "nC = c * xmax\n",
    "nD = d * xmax\n",
    "</pre>\n",
    "</div>"
   ]
  },
  {
   "cell_type": "markdown",
   "id": "8c9a74de-fce9-41e1-9943-477328fbe041",
   "metadata": {
    "tags": []
   },
   "source": [
    "<div class=\"alert alert-block alert-info\">\n",
    "    <b> Consignes </b>\n",
    "    <p> En considérant que A correspond à $I_2$ et B à $S_2O_3^{2-}$, compléter la cellule ci-dessous.</p>\n",
    "</div>"
   ]
  },
  {
   "cell_type": "code",
   "execution_count": null,
   "id": "bc3d6efe-c5db-435a-807f-216edbbf5f8b",
   "metadata": {
    "tags": []
   },
   "outputs": [],
   "source": [
    "# coefficients stoechiométriques\n",
    "a = \n",
    "b = ...\n",
    "c = 1\n",
    "d = 2\n",
    "\n",
    "# Solutions utilisées\n",
    "CA = ...\n",
    "VA = ...\n",
    "CB = ...\n",
    "#  expression du volume équivalent:\n",
    "VE = b / a * CA * VA / CB"
   ]
  },
  {
   "cell_type": "markdown",
   "id": "058d641a-ac9e-48da-8754-39b201a96abc",
   "metadata": {
    "tags": []
   },
   "source": [
    "<div class=\"alert alert-block alert-success\">\n",
    "    <details>\n",
    "        <summary> <b> Aides </b> </summary>\n",
    "            <ul> \n",
    "                <li>a et b sont les coefficient stœechiométrique: On doit pouvoir trouver leurs valeurs quelque part... </li>\n",
    "                <li> Les concentrations et les volumes sont donnés dans le sujet!</li>\n",
    "        </ul>\n",
    "    </details>\n",
    "</div>"
   ]
  },
  {
   "cell_type": "markdown",
   "id": "040b87db-f536-496d-b115-fc68b1e20651",
   "metadata": {},
   "source": [
    "<div class=\"alert alert-block alert-warning\">\n",
    " <details>\n",
    "        <summary> <b> Solution </b> </summary>\n",
    "<code>a= 1\n",
    "b = 2\n",
    "CA = 1e-3\n",
    "VA = 10e-3\n",
    "CB = 2e-3CA = 1e-3\n",
    "VA = 10e-3\n",
    "CB = 2e-3</code>\n",
    "     \n",
    "    </details>\n",
    "</div>"
   ]
  },
  {
   "cell_type": "markdown",
   "id": "df1d55b5-1855-496f-9f3a-edf4aeca0838",
   "metadata": {
    "tags": []
   },
   "source": [
    "<div class=\"alert alert-block alert-info\">\n",
    "    <b> Consignes </b>\n",
    "    <p> Exécuter la cellule suivante </p>\n",
    "</div>"
   ]
  },
  {
   "cell_type": "code",
   "execution_count": null,
   "id": "0a40404c-cfd1-4f76-9947-9668f19ab709",
   "metadata": {},
   "outputs": [],
   "source": [
    "# Créaction d'une liste de volume allant de 0 à 25mL\n",
    "V = []\n",
    "for i in range(0, 26):\n",
    "    V.append(i * 1E-3)\n",
    "\n",
    "nA = []\n",
    "nB = []\n",
    "nC = []\n",
    "nD = []\n",
    "\n",
    "for VB in V:\n",
    "    if VB <= VE:\n",
    "        nA.append(avt_stoechio(CA, VA, CB, VB, a,b ,c, d)[0])\n",
    "        nB.append(avt_stoechio(CA, VA, CB, VB, a,b ,c, d)[1])\n",
    "        nC.append(avt_stoechio(CA, VA, CB, VB, a,b ,c, d)[2])\n",
    "        nD.append(avt_stoechio(CA, VA, CB, VB, a,b ,c, d)[3])\n",
    "\n",
    "    else:\n",
    "        nA.append(ap_stoechio(CA, VA, CB, VB, a,b ,c, d)[0])\n",
    "        nB.append(ap_stoechio(CA, VA, CB, VB, a,b ,c, d)[1])\n",
    "        nC.append(ap_stoechio(CA, VA, CB, VB, a,b ,c, d)[2])\n",
    "        nD.append(ap_stoechio(CA, VA, CB, VB, a,b ,c, d)[3])"
   ]
  },
  {
   "cell_type": "markdown",
   "id": "0cfee5df-0cfc-461b-87b9-6ebd34a21f0b",
   "metadata": {
    "tags": []
   },
   "source": [
    "<div class=\"alert alert-block alert-info\">\n",
    "    <b> Consignes </b>\n",
    "    <ol> \n",
    "       <li> Exécuter la cellule suivante. </li>\n",
    "        <li> Modifier le script pour afficher les courbes représentant l'évolution des quantités des produits C et D.</li>\n",
    "    </ol>\n",
    "</div>"
   ]
  },
  {
   "cell_type": "code",
   "execution_count": null,
   "id": "cc19f55b-3099-4669-9931-ee19eae21cca",
   "metadata": {},
   "outputs": [],
   "source": [
    "# tracé des qtés de matière au cours du titrage\n",
    "import matplotlib.pyplot as plt\n",
    "plt.plot(V, nA, label = \"$n_A$\")\n",
    "plt.plot(V, nB, \"--\", label = \"$n_B$\")\n",
    "#plt.plot(V, nC, label = \"C\")\n",
    "#plt.plot(V, nD, label = \"D\")\n",
    "\n",
    "#plt.title(\"Quantités de matière en fonction du Volume de solution ajouté\")\n",
    "plt.xlabel(\"$V_B$ / mL\")\n",
    "plt.ylabel(\"$n$ / mol\")\n",
    "plt.xlim(0, 25E-3)\n",
    "plt.ylim(0)\n",
    "plt.legend()\n",
    "plt.grid()\n",
    "plt.show()"
   ]
  },
  {
   "cell_type": "markdown",
   "id": "18a2557c-eb81-4815-94eb-8e0cf6159a24",
   "metadata": {
    "tags": []
   },
   "source": [
    "<div class=\"alert alert-block alert-success\">\n",
    "    <details>\n",
    "        <summary> <b> Aides </b> </summary>\n",
    "            <p> Les lignes 5 et 6 sont des commentaires... </p>\n",
    "    </details>\n",
    "</div>"
   ]
  },
  {
   "cell_type": "markdown",
   "id": "fd165b84-219f-4764-971c-6e8cae00fcd0",
   "metadata": {},
   "source": [
    "<div class=\"alert alert-block alert-warning\">\n",
    "     <details>\n",
    "         <summary> <b> Solution </b> </summary>\n",
    "         <p> Retirer le \"#\" devant les lignes 5 et 6 pour les décommenter</p>\n",
    "        \n",
    "    </details>\n",
    "</div>"
   ]
  }
 ],
 "metadata": {
  "kernelspec": {
   "display_name": "Python 3",
   "language": "python",
   "name": "python3"
  },
  "language_info": {
   "codemirror_mode": {
    "name": "ipython",
    "version": 3
   },
   "file_extension": ".py",
   "mimetype": "text/x-python",
   "name": "python",
   "nbconvert_exporter": "python",
   "pygments_lexer": "ipython3",
   "version": "3.8.10"
  }
 },
 "nbformat": 4,
 "nbformat_minor": 5
}
