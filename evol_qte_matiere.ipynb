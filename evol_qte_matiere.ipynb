{
 "cells": [
  {
   "cell_type": "markdown",
   "id": "64374320-f473-4d32-85c7-ead5486e8b3d",
   "metadata": {},
   "source": [
    "<h1 align=\"center\" style=\"font-size:40px\"> AN1 : détermination de l'état final </h1> "
   ]
  },
  {
   "cell_type": "markdown",
   "id": "b55211ee-aed1-48b3-a8b4-f1e9eef87f22",
   "metadata": {
    "tags": []
   },
   "source": [
    "<div class=\"alert alert-block alert-danger\">\n",
    "    <b>CONSIGNES GENERALES</b>\n",
    "     <ul>\n",
    "        <li> Lire les consignes dans les cellules bleues. </li>\n",
    "        <li> Les aides (cellules vertes) et les solutions (cellules jaunes)ne sont à utiliser qu'après avoir vraiment essayé de compléter le code. </li>\n",
    "         <li> Penser à <b>exécuter chaque cellule</b> avant de passer à la question suivante</li>\n",
    "        <li> Pour le tracer des graphiques avec python, on trouvera des notices au format pdf <a href=\"https://nuage-creteil.beta.education.fr/s/7kqcytKETt2aieb?dir=undefined&path=%2FNotices%2FPython%2FNotice_python_graph&openfile=20451\">ici</a> et des tutos vidéos <a href=\"https://colibris.link/PC_peerTube\">là</a>. </li>\n",
    "    </ul>\n",
    "</div>"
   ]
  },
  {
   "cell_type": "markdown",
   "id": "757a25ed-2cd1-4f10-9610-6234d92a1ac7",
   "metadata": {},
   "source": [
    "Dans le code qui suit, on représente l'équation \n",
    "$$ CH_4(g) + 2O_2(g) \\longrightarrow CO_2(g) + 2H_2O(g)$$\n",
    "par \n",
    "$$ aA + bB \\longrightarrow cC + dD$$"
   ]
  },
  {
   "cell_type": "markdown",
   "id": "30dc8525-823f-4de0-a749-b774cc37c35a",
   "metadata": {
    "tags": []
   },
   "source": [
    "<div class=\"alert alert-block alert-info\">\n",
    "    <b> Consignes </b>\n",
    "    <p> Compléter la cellule pour que la fonction renvoie la valeur de xmax.</p>\n",
    "</div>"
   ]
  },
  {
   "cell_type": "code",
   "execution_count": null,
   "id": "03e08b03-4b94-46e0-96f4-5cf8a58fc6e9",
   "metadata": {},
   "outputs": [],
   "source": [
    "def deter_xmax(niA, niB, a, b, c, d):\n",
    "    '''Fonction prenant en argument les quantités de matière initales de réactifs\n",
    "    et les nbs stoechiométriques et renvoyant la valeur de xmax'''\n",
    "    x1 = niA/a\n",
    "    x2 = niB/b\n",
    "#si le réactif A est limitant\n",
    "    if x1 < x2:\n",
    "        xmax = ...\n",
    "#Si le réactif B est limitant ou si proportions stoechiométriques\n",
    "    ...:\n",
    "        xmax = x2          \n",
    "    return xmax"
   ]
  },
  {
   "cell_type": "markdown",
   "id": "4e3a9701-57a0-4da9-bec4-3f83dcbf4d05",
   "metadata": {
    "tags": []
   },
   "source": [
    "<div class=\"alert alert-block alert-success\">\n",
    "    <details>\n",
    "        <summary> <b> Aides </b> </summary>\n",
    "        <ul>\n",
    "            <li> La valeur de xmax est la plus petite possibilités. </li>\n",
    "            <li> Dans les proportions stoechiométrique, $x_1 = x_2$, on peut donc retenir la valeur de $x_2$. </li>\n",
    "        </ul>\n",
    "    </details>\n",
    "</div>"
   ]
  },
  {
   "cell_type": "markdown",
   "id": "2c2595fb-5ad8-4e4c-bc2e-8585cce3b5b0",
   "metadata": {},
   "source": [
    "<div class=\"alert alert-block alert-warning\">\n",
    " <details>\n",
    "        <summary> <b> Solution </b> </summary>\n",
    "        <ul>\n",
    "            <li> <b> Ligne 8 </b> : <code>xmax = x1</code> </li>\n",
    "            <li> <b> Ligne 10 </b> : <code>else: </code> </li>\n",
    "        </ul>\n",
    "    </details>\n",
    "</div>"
   ]
  },
  {
   "cell_type": "markdown",
   "id": "20e908d4-520e-487e-ba1a-d3296e49d372",
   "metadata": {
    "tags": []
   },
   "source": [
    "<div class=\"alert alert-block alert-info\">\n",
    "    <b> Consignes </b>\n",
    "    <p> Compléter la cellule pour que la fonction détermine les valeurs des quantités de matières</p>\n",
    "</div>"
   ]
  },
  {
   "cell_type": "code",
   "execution_count": null,
   "id": "068d3a7e-56d5-4c8f-a1b4-d2063b0a5f05",
   "metadata": {},
   "outputs": [],
   "source": [
    "def qte_mat(niA, niB, a, b, c, d):\n",
    "    \n",
    "    xmax = deter_xmax(niA, niB, a, b, c, d)\n",
    "    '''Fonction prenant en argument les quantités de matière initales de réactifs\n",
    "    et les nbs stoechiométriques et renvoyant et renvoyant les listes de x et des \n",
    "    quantités de matières.'''\n",
    "#création d'une liste pour les valeurs de x \n",
    "    x = 0\n",
    "    dx = 1e-4\n",
    "    liste_x = []\n",
    "    while x <= xmax:\n",
    "        liste_x.append(x)\n",
    "        x = x + dx\n",
    "#création et remplissage des listes avec les quantités de matière\n",
    "    nA = []\n",
    "    for xi in liste_x:\n",
    "        nA.append(niA - a * xi)\n",
    "    nB = []    \n",
    "    for xi in liste_x:\n",
    "        nB.append(...)\n",
    "    nC = []\n",
    "    for xi in liste_x:\n",
    "        nC.append(...)\n",
    "    nD = []\n",
    "    for xi in liste_x:\n",
    "        nD.append(...)\n",
    "        \n",
    "    return liste_x, nA, nB, nC, nD"
   ]
  },
  {
   "cell_type": "markdown",
   "id": "80e01e10-0f70-4630-9682-83224265a7ea",
   "metadata": {
    "tags": []
   },
   "source": [
    "<div class=\"alert alert-block alert-success\">\n",
    "    <details>\n",
    "        <summary> <b> Aides </b> </summary>\n",
    "        <ul>\n",
    "            <li> Avec le tableau d'avancement on connait l'expression des quantités de matière en fonction de x.</li>\n",
    "            <li> Attention à bien différencier les réactifs et les produits. </li>\n",
    "        </ul>\n",
    "    </details>\n",
    "</div>"
   ]
  },
  {
   "cell_type": "markdown",
   "id": "e02870b5-f400-4d4f-92e0-5f98ba615e7f",
   "metadata": {},
   "source": [
    "<div class=\"alert alert-block alert-warning\">\n",
    " <details>\n",
    "        <summary> <b> Solution </b> </summary>\n",
    "        <code>    nB = []    \n",
    "    for xi in liste_x:\n",
    "        nB.append(niB - b * xi)\n",
    "    nC = []\n",
    "    for xi in liste_x:\n",
    "        nC.append(c * xi)\n",
    "    nD = []\n",
    "    for xi in liste_x:\n",
    "        nD.append(d * xi)</code>\n",
    "    </details>\n",
    "</div>"
   ]
  },
  {
   "cell_type": "markdown",
   "id": "b69b73e7-e40f-47f3-95ad-00c902eae369",
   "metadata": {
    "tags": []
   },
   "source": [
    "<div class=\"alert alert-block alert-info\">\n",
    "    <b> Consignes </b>\n",
    "    <p> Compléter la cellule pour que la fonction renvoie le graphique réprésentant l'évolutin des quantités de matière en fonction de l'avancement</p>\n",
    "</div>"
   ]
  },
  {
   "cell_type": "code",
   "execution_count": null,
   "id": "ab5a26e5-ff73-48c6-b42a-f2f962d8e362",
   "metadata": {},
   "outputs": [],
   "source": [
    "def graphique(niA, niB, a, b, c, d):\n",
    "    '''Fonction prenant en argument les quantités de matière initales de réactifs\n",
    "    et les nbs stoechiométriques et affichant le graphique d'évolution des quantités de matière\n",
    "    en fonction de l'avancement'''\n",
    "    #importation du module\n",
    "    import matplotlib.pyplot as plt\n",
    "    \n",
    "    #récupération des listes\n",
    "    x, nA, nB, nC, nD = qte_mat(niA, niB, a, b, c, d)\n",
    "    #tracer du graphique\n",
    "    plt.figure()\n",
    "    plt.plot(x, ..., label=\"n(CH4)\")\n",
    "    plt.plot(..., nB, label=\"n(O2)\")\n",
    "    plt.plot(..., ..., label=\"n(CO2)\")\n",
    "    plt.plot(x, nD, label=\"...\")\n",
    "    plt.xlabel(\"x / mol\")\n",
    "    plt.ylabel(\"n / mol\")\n",
    "    plt.legend()\n",
    "    plt.grid()\n",
    "    plt.show()"
   ]
  },
  {
   "cell_type": "markdown",
   "id": "7a01358e-d07c-46eb-9db9-d96288d89ec0",
   "metadata": {
    "tags": []
   },
   "source": [
    "<div class=\"alert alert-block alert-success\">\n",
    "    <details>\n",
    "        <summary> <b> Aides </b> </summary>\n",
    "        <p> La fonction permettant de tracer une courbe est : \n",
    "            <code>plt.plot(liste_abscisse, liste_ordonnée)</code></p>\n",
    "    </details>\n",
    "</div>"
   ]
  },
  {
   "cell_type": "markdown",
   "id": "a2ca2396-5195-4b66-86c4-92429f2db25f",
   "metadata": {},
   "source": [
    "<div class=\"alert alert-block alert-warning\">\n",
    " <details>\n",
    "        <summary> <b> Solution </b> </summary>\n",
    "     <code>    plt.plot(x, nA, label=\"n(CH4)\")\n",
    "    plt.plot(x, nB, label=\"n(O2)\")\n",
    "    plt.plot(x, nC, label=\"n(CO2)\")\n",
    "    plt.plot(x, nD, label=\"n(H2O)\")</code>\n",
    "    </details>\n",
    "</div>"
   ]
  },
  {
   "cell_type": "markdown",
   "id": "651c32e7-0a37-45e3-8a6d-ca313f66bd13",
   "metadata": {
    "tags": []
   },
   "source": [
    "<div class=\"alert alert-block alert-info\">\n",
    "    <b> Consignes </b>\n",
    "    <p> Exécuter la cellule suivante et identifier le réactif limitant</p>\n",
    "</div>"
   ]
  },
  {
   "cell_type": "code",
   "execution_count": null,
   "id": "7ee39d28-dc6a-4212-aace-9e4bcd1ca030",
   "metadata": {},
   "outputs": [],
   "source": [
    "a = 1\n",
    "b = 2 \n",
    "c = 1\n",
    "d = 2\n",
    "graphique(5, 10, a, b, c, d)"
   ]
  },
  {
   "cell_type": "markdown",
   "id": "3417e68e-3a97-4902-ba06-7d18a0eb7747",
   "metadata": {
    "tags": []
   },
   "source": [
    "<div class=\"alert alert-block alert-info\">\n",
    "    <b> Consignes </b>\n",
    "    <p> On peut maintenant appeler la fonction graphique en passant en argument différentes valeur pour les quantités de matière initiales niA et niB : faire des test en mofifiant la cellule suivante.</p>\n",
    "</div>"
   ]
  },
  {
   "cell_type": "code",
   "execution_count": null,
   "id": "79f992c4-89f6-43d6-a7e8-c63878bc0076",
   "metadata": {},
   "outputs": [],
   "source": [
    "graphique(..., ..., a, b, c, d)"
   ]
  }
 ],
 "metadata": {
  "kernelspec": {
   "display_name": "Python 3",
   "language": "python",
   "name": "python3"
  },
  "language_info": {
   "codemirror_mode": {
    "name": "ipython",
    "version": 3
   },
   "file_extension": ".py",
   "mimetype": "text/x-python",
   "name": "python",
   "nbconvert_exporter": "python",
   "pygments_lexer": "ipython3",
   "version": "3.8.10"
  }
 },
 "nbformat": 4,
 "nbformat_minor": 5
}
