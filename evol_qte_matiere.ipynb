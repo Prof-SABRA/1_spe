{
 "cells": [
  {
   "cell_type": "code",
   "execution_count": null,
   "id": "3608333f-87b2-4338-9ff4-3038a2c092fd",
   "metadata": {},
   "outputs": [],
   "source": []
  },
  {
   "cell_type": "markdown",
   "id": "180fef08-5fff-414d-a58f-c5c392c2d43f",
   "metadata": {},
   "source": [
    "<h1 align=\"center\" style=\"font-size:40px\"> AN1 : détermination de l'état final </h1> "
   ]
  },
  {
   "cell_type": "markdown",
   "id": "4137b3fd-9d18-4878-8371-0965d1594f83",
   "metadata": {
    "tags": []
   },
   "source": [
    "<div class=\"alert alert-block alert-danger\">\n",
    "    <b>CONSIGNES GENERALES</b>\n",
    "     <ul>\n",
    "        <li> Lire les consignes dans les cellules bleues. </li>\n",
    "         <li> Penser à <b>exécuter chaque cellule</b> avant de passer à la question suivante</li>\n",
    "    </ul>\n",
    "</div>"
   ]
  },
  {
   "cell_type": "markdown",
   "id": "0fd7d4b2-5187-4441-8cca-e4554353a3d7",
   "metadata": {},
   "source": [
    "# Partie 1 Prédire l'état final"
   ]
  },
  {
   "cell_type": "markdown",
   "id": "649adc9c-e20f-4244-9430-b6002a53e615",
   "metadata": {
    "tags": []
   },
   "source": [
    "Dans le code qui suit, on représente l'équation \n",
    "$$ CH_4(g) + 2O_2(g) \\longrightarrow CO_2(g) + 2H_2O(g)$$\n",
    "par \n",
    "$$ aA + bB \\longrightarrow cC + dD$$"
   ]
  },
  {
   "cell_type": "markdown",
   "id": "5a8f89a9-30b3-4c47-9d46-884843852915",
   "metadata": {
    "tags": []
   },
   "source": [
    "<div class=\"alert alert-block alert-info\">\n",
    "    <p>  \n",
    "        <b> I. </b> Dans la cellule suivante, écrire le script proposé à la question 3.\n",
    "</div>"
   ]
  },
  {
   "cell_type": "code",
   "execution_count": null,
   "id": "339d16a4-006c-4bb8-b44e-b6dfde9b60ba",
   "metadata": {},
   "outputs": [],
   "source": []
  },
  {
   "cell_type": "markdown",
   "id": "b3ca3be2-b71a-434d-967c-d6d4ad81e81f",
   "metadata": {
    "tags": []
   },
   "source": [
    "<div class=\"alert alert-block alert-info\">\n",
    "    <p>  \n",
    "        <b> II. </b> Tester la valeur retournée lorsqu'on exécute la cellule suivante.\n",
    "    </p>\n",
    "</div>"
   ]
  },
  {
   "cell_type": "code",
   "execution_count": null,
   "id": "063e20fd-0f27-4dd1-824e-8ab4c83a8bf0",
   "metadata": {
    "tags": []
   },
   "outputs": [],
   "source": [
    "x_max"
   ]
  },
  {
   "cell_type": "markdown",
   "id": "32cfbb10-f331-4b0b-8ba5-be53e7b6810e",
   "metadata": {
    "tags": []
   },
   "source": [
    "<div class=\"alert alert-block alert-info\">\n",
    "    <p>  \n",
    "        <b> III. </b> La valeur de x_max étant maintenant connue, écrire un script permettant de calculer à l'état final :\n",
    "        <ul>\n",
    "            <li> la quantité de matière restant de A </li>\n",
    "            <li> la quantié de matière restant de B </li>\n",
    "            <li> la quantité de matière de C </li>\n",
    "            <li> la quantité de matière de D </li>\n",
    "        </ul>\n",
    "    </p>\n",
    "</div>"
   ]
  },
  {
   "cell_type": "code",
   "execution_count": null,
   "id": "adee7a1c-cc24-47b3-9926-29f4ac253fb4",
   "metadata": {
    "tags": []
   },
   "outputs": [],
   "source": [
    "nf_A = ...\n",
    "\n"
   ]
  },
  {
   "cell_type": "markdown",
   "id": "3db752fd-7019-4e67-96b8-27b261edd523",
   "metadata": {},
   "source": [
    "<div class=\"alert alert-block alert-warning\">\n",
    "     <details>\n",
    "        <summary> <b> Solution </b> </summary>\n",
    "        <pre>\n",
    "nf_A = ni_A - a * x_max\n",
    "print(\"nf_A = \", nf_A ,\"mol\")\n",
    "</pre>\n",
    "         On vous laisse deviner pour les autres espèces chimiques.\n",
    "    </details>\n",
    "</div>"
   ]
  },
  {
   "cell_type": "markdown",
   "id": "8deb459a-0716-4374-8144-2fe2c4f61712",
   "metadata": {},
   "source": [
    "# Partie 2 : Programmation fonctionnelle pour une utilisation plus aisée"
   ]
  },
  {
   "cell_type": "markdown",
   "id": "8c73b694-a861-4971-8118-837f414dabb4",
   "metadata": {
    "tags": []
   },
   "source": [
    "<div class=\"alert alert-block alert-info\">\n",
    "    <p>  \n",
    "        <b> IV. </b> Les script précédents peuvent être écrit sous forme d'une fonction.\n",
    "        Exécuter la cellule suivante et passer à la suite.\n",
    "    </p>\n",
    "</div>"
   ]
  },
  {
   "cell_type": "code",
   "execution_count": null,
   "id": "b612b9b7-4c6f-445e-9e88-8a4f16a06b8c",
   "metadata": {},
   "outputs": [],
   "source": [
    "def deter_ef(ni_A, ni_B, a, b, c, d):\n",
    "    x1 = ni_A/a\n",
    "    x2 = ni_B/b\n",
    "    if x1 < x2 :\n",
    "        x_max = x1\n",
    "    else: \n",
    "        x_max = x2\n",
    "    nf_A = ni_A - a * x_max\n",
    "    nf_B = ni_B - b * x_max\n",
    "    nf_C = c * x_max\n",
    "    nf_D = d * x_max \n",
    "    \n",
    "    return (nf_A, nf_B, nf_C, nf_D)"
   ]
  },
  {
   "cell_type": "markdown",
   "id": "7dbf3e40-9cf8-4d4c-8ff0-db04e8f273f7",
   "metadata": {
    "tags": []
   },
   "source": [
    "<div class=\"alert alert-block alert-info\">\n",
    "    <p>  \n",
    "        <b> V. </b> Compléter et exécuter la cellule suivante. pour retrouver les valeurs de la question 5.\n",
    "    </p>\n",
    "</div>"
   ]
  },
  {
   "cell_type": "code",
   "execution_count": null,
   "id": "8ef90775-f1a4-4d94-8c14-3cb033905fb7",
   "metadata": {
    "tags": []
   },
   "outputs": [],
   "source": [
    "deter_ef( ..., ..., 1, 2, 1, 2)"
   ]
  },
  {
   "cell_type": "markdown",
   "id": "d31b4c2d-902d-4be2-8063-d7c4cdd3b7e7",
   "metadata": {
    "tags": []
   },
   "source": [
    "<div class=\"alert alert-block alert-info\">\n",
    "    <p>  \n",
    "        <b> VI. </b> Appeler la fonction précédente en modifiant la valeur des arguments pour répondre aux question <i>8.a</i> et <i>8.b</i> \n",
    "    </p>\n",
    "</div>"
   ]
  },
  {
   "cell_type": "code",
   "execution_count": null,
   "id": "a1aa1356-bcaf-4725-bde0-1c94f22b2ccb",
   "metadata": {},
   "outputs": [],
   "source": []
  },
  {
   "cell_type": "code",
   "execution_count": null,
   "id": "1b98446f-97ec-4604-8a3b-5fb1d0855584",
   "metadata": {},
   "outputs": [],
   "source": []
  },
  {
   "cell_type": "markdown",
   "id": "a7159278-fe5a-4ef1-84ee-d22b22fef74f",
   "metadata": {},
   "source": [
    "# Partie 3 : Pour aller plus loin : tracer des graphiques"
   ]
  },
  {
   "cell_type": "markdown",
   "id": "3b9da7a0-dc1d-410a-90c1-a406c623d89f",
   "metadata": {
    "tags": []
   },
   "source": [
    "<div class=\"alert alert-block alert-info\">\n",
    "    <p>  \n",
    "        <b> VII. </b> Exécuter la cellule suivante et passer à la suite    \n",
    "    </p>\n",
    "</div>"
   ]
  },
  {
   "cell_type": "code",
   "execution_count": null,
   "id": "d0c42c09-e0f1-48c5-93fd-3e5ce63fcfbb",
   "metadata": {},
   "outputs": [],
   "source": [
    "def qte_mat(niA, niB, a, b, c, d):\n",
    "    '''Fonction prenant en argument les quantités de matière initales de réactifs\n",
    "    et les nbs stoechiométriques et renvoyant et renvoyant les listes de x et des \n",
    "    quantités de matières.'''\n",
    "    x1 = niA/a\n",
    "    x2 = niB/b\n",
    "    if x1 < x2 :\n",
    "        x_max = x1\n",
    "    else: \n",
    "        x_max = x2\n",
    "    #création d'une liste pour les valeurs de x \n",
    "    x = 0\n",
    "    dx = 1e-4\n",
    "    liste_x = []\n",
    "    while x <= x_max:\n",
    "        liste_x.append(x)\n",
    "        x = x + dx\n",
    "    # Création et remplissage des listes avec les quantités de matière\n",
    "    nA = []\n",
    "    for xi in liste_x:\n",
    "        nA.append(niA - a * xi)\n",
    "    nB = []    \n",
    "    for xi in liste_x:\n",
    "        nB.append(niB - b * xi)\n",
    "    nC = []\n",
    "    for xi in liste_x:\n",
    "        nC.append(c * xi)\n",
    "    nD = []\n",
    "    for xi in liste_x:\n",
    "        nD.append(d * xi)\n",
    "        \n",
    "    return liste_x, nA, nB, nC, nD"
   ]
  },
  {
   "cell_type": "markdown",
   "id": "e4b920bc-d773-4d54-855a-66b2f31866dd",
   "metadata": {
    "tags": []
   },
   "source": [
    "<div class=\"alert alert-block alert-info\">\n",
    "    <p>  \n",
    "        <b> VIII. </b> Compléter la cellule ci-dessous pour. On pourra utiliser la notice au format pdf disponible <a href=\"https://nuage-creteil.beta.education.fr/s/7kqcytKETt2aieb?dir=undefined&path=%2FNotices%2FPython%2FNotice_python_graph&openfile=20451\">ici</a> un tuto vidéo <a href=\"https://tube-creteil.beta.education.fr/videos/watch/8ba61fa9-08ac-4e32-947b-dbcafc736fa6\">là</a>.\n",
    "    </p>\n",
    "</div>"
   ]
  },
  {
   "cell_type": "code",
   "execution_count": null,
   "id": "e50e124e-5e6b-4759-b580-8e9156e87da5",
   "metadata": {},
   "outputs": [],
   "source": [
    " #importation du module permettant de tracer les graphiques\n",
    "import matplotlib.pyplot as plt\n",
    "\n",
    "ni_A = 5\n",
    "ni_B = 8\n",
    "a = 1\n",
    "b = 2\n",
    "c = 1\n",
    "d = 2\n",
    "\n",
    "#récupération des listes\n",
    "x, nA, nB, nC, nD = qte_mat(ni_A, ni_B, a, b, c, d)\n",
    "\n",
    "#Tracer des courbes\n",
    "plt.figure()\n",
    "plt.plot(x, nA, label=\"n(CH4)\") #tracer de la courbe de nA\n",
    "plt.plot(..., ...,  label=\"n(O2)\")\n",
    "plt.plot(...)\n",
    "plt.plot(...)\n",
    "plt.xlabel(\"...\")\n",
    "plt.ylabel(\"n / mol\")\n",
    "plt.xlim(0)\n",
    "plt.ylim(0)\n",
    "plt.legend()\n",
    "plt.grid()\n",
    "plt.show()"
   ]
  }
 ],
 "metadata": {
  "kernelspec": {
   "display_name": "Python 3",
   "language": "python",
   "name": "python3"
  },
  "language_info": {
   "codemirror_mode": {
    "name": "ipython",
    "version": 3
   },
   "file_extension": ".py",
   "mimetype": "text/x-python",
   "name": "python",
   "nbconvert_exporter": "python",
   "pygments_lexer": "ipython3",
   "version": "3.8.10"
  }
 },
 "nbformat": 4,
 "nbformat_minor": 5
}
