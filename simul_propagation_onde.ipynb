{
 "cells": [
  {
   "cell_type": "markdown",
   "metadata": {
    "tags": []
   },
   "source": [
    "<h1 align=\"center\" style=\"font-size:35px\"> SIMULATION DE LA PROPAGATION D'UNE ONDE PERIODIQUE </h1> "
   ]
  },
  {
   "cell_type": "markdown",
   "metadata": {},
   "source": [
    "<div class=\"alert alert-block alert-danger\">\n",
    "    <b>Consignes générales</b>\n",
    "    <ul>\n",
    "        <li> Lire les consignes dans les cellules bleu </li>\n",
    "        <li> Les aides (cellules vertes) et les solutions (cellules jaunes)ne sont à utiliser qu'après avoir vraiment essayer de compléter le code. </li>\n",
    "        <li> Bien penser à exécuter chaque cellules avant de passer à la suite. </li>\n",
    "    </ul>\n",
    "</div>"
   ]
  },
  {
   "cell_type": "markdown",
   "metadata": {},
   "source": [
    "## Partie 1 : La double périodicité"
   ]
  },
  {
   "cell_type": "markdown",
   "metadata": {},
   "source": [
    "<div class=\"alert alert-info\" role=\"alert\">\n",
    "    <b> Consignes </b>\n",
    "        <p>Exécuter la cellule ci-dessous<\\p>\n",
    "</div>"
   ]
  },
  {
   "cell_type": "code",
   "execution_count": null,
   "metadata": {},
   "outputs": [],
   "source": [
    "#### Importation des modules utiles ####\n",
    "import matplotlib.pyplot as plt\n",
    "from math import *"
   ]
  },
  {
   "cell_type": "markdown",
   "metadata": {},
   "source": [
    "<div class=\"alert alert-block alert-info\">\n",
    "<b> Consignes </b>\n",
    "    <p>Compléter et exécuter les cellules ci-dessous pour définir les fonctions dont on aura besoin plus tard</p>\n",
    "</div>"
   ]
  },
  {
   "cell_type": "code",
   "execution_count": null,
   "metadata": {},
   "outputs": [],
   "source": [
    "def onde(amplitude, longueur_onde, periode, xi, ti):\n",
    "    \"\"\"fonction prenant en arguments les caractéristiques de l'onde\n",
    "    progressive, l'abscisses et la date et renvoyant la valeur de l'élongation\n",
    "    pour ce point à cette date\"\"\"\n",
    "    y = ... \n",
    "    return y"
   ]
  },
  {
   "cell_type": "markdown",
   "metadata": {},
   "source": [
    "<div class=\"alert alert-block alert-success\">\n",
    "    <details>\n",
    "        <summary> <b> Aides </b> </summary>\n",
    "        <ul>\n",
    "            <li> L'expression de y est donnée dans le sujet </li>\n",
    "            <li> \n",
    "                Les noms des variables utilisées doivent correspondre aux arguments de la fonction <i>onde</i>\n",
    "            </li>\n",
    "        </ul>\n",
    "    </details>\n",
    "</div>"
   ]
  },
  {
   "cell_type": "markdown",
   "metadata": {},
   "source": [
    "<div class=\"alert alert-block alert-warning\">\n",
    " <details>\n",
    "        <summary> <b> Solution </b> </summary>\n",
    "            <p> y = amplitude * sin((2 * pi * ti / periode) - (2 * pi * xi / longueur_onde)) </p>\n",
    "    </details>\n",
    "</div>"
   ]
  },
  {
   "cell_type": "code",
   "execution_count": null,
   "metadata": {},
   "outputs": [],
   "source": [
    "def representation_spatiale(j, x, t):\n",
    "    '''fonction prenant en argument un indice, une liste d'abscisse et une\n",
    "    liste de date et tracant y = f(x) pour la date d'indice j'''\n",
    "# Calcul de l'élongation y pour toutes les dates à l'abscisse x[j]\n",
    "    N = len(x)\n",
    "    y = []\n",
    "    for i in range(N):\n",
    "        yi = onde(amplitude, longueur_onde, periode, x[i], t[j])\n",
    "        y.append(yi)\n",
    "# Tracer de y  = f(x)\n",
    "    plt.plot(..., ..., label = f\"t = {t[j]:.1f} ms\")\n",
    "    plt.legend()\n",
    "    plt.title(\"élongation en fonction de la position\")\n",
    "    plt.xlabel(\"x / mm\")\n",
    "    plt.ylabel(\"y / mm\")"
   ]
  },
  {
   "cell_type": "code",
   "execution_count": null,
   "metadata": {},
   "outputs": [],
   "source": [
    "def representation_temp(j, x, t):\n",
    "    '''fonction prenant en argument un indice, une liste d'abscisse et une\n",
    "    liste de date et tracant y = f(t) pour l'abscisse d'indice j'''\n",
    "#Calcul de l'élongation pour toutes les valeurs de x à la date t[j]\n",
    "    N = len(t)\n",
    "    y = []\n",
    "    for i in range(N):\n",
    "        yi = onde(amplitude, longueur_onde, periode, x[j], t[i])\n",
    "        y.append(yi)\n",
    "# Tracer de y = f(t)\n",
    "    plt.plot(..., ..., color=\"red\", label = f\"x = {x[j]:.1f} mm\")\n",
    "    plt.legend()\n",
    "    plt.title(\"élongation en fonction du temps\")\n",
    "    plt.xlabel(\"t / ms\")\n",
    "    plt.ylabel(\"y / mm\")"
   ]
  },
  {
   "cell_type": "markdown",
   "metadata": {},
   "source": [
    "<div class=\"alert alert-block alert-success\">\n",
    "    <details>\n",
    "        <summary> <b> Aide </b> </summary>\n",
    "        <p>Pour tracer des graphiques : voir <a href=\"https://nuage-creteil.beta.education.fr/s/yj8JqKWJydcG2F9\">la notice</a> ou la \n",
    "                <a href=\"https://tube-creteil.beta.education.fr/videos/watch/8ba61fa9-08ac-4e32-947b-dbcafc736fa6\"> vidéo tuto </a>\n",
    "        </p>\n",
    "    </details>\n",
    "</div>"
   ]
  },
  {
   "cell_type": "markdown",
   "metadata": {},
   "source": [
    "<div class=\"alert alert-block alert-warning\">\n",
    " <details>\n",
    "        <summary> <b> Solution </b> </summary>\n",
    "        <ul>\n",
    "            <li> <b> Représentation spatiale : </b> plt.plot(x, y, ...)</li>\n",
    "            <li> <b> Représentation temporelle : </b> plt.plot(t, y, ...) </li>\n",
    "        </ul>\n",
    "    </details>\n",
    "</div>"
   ]
  },
  {
   "cell_type": "markdown",
   "metadata": {},
   "source": [
    "<div class=\"alert alert-block alert-info\">\n",
    "<b> Consignes </b>\n",
    "    <ul>\n",
    "        <li>  Compléter code en s'aidant du document 1 et de la définition des fonctions dans la cellule précédente </li>\n",
    "        <li> Exécuter la cellule et vérifier qu'il n'y a pas de message d'erreur </li>\n",
    "        <li> Modifier les valeur de la longueur d'onde et de la période pour observer l'effet sur les graphiques. </li>\n",
    "    </ul>\n",
    "</div>"
   ]
  },
  {
   "cell_type": "code",
   "execution_count": null,
   "metadata": {},
   "outputs": [],
   "source": [
    "# Initialisation des variables\n",
    "L = ... # longeur de la corde en mm\n",
    "longueur_onde = ... # mm\n",
    "periode = ... # ms\n",
    "amplitude = 1\n",
    "\n",
    "# création d'un liste de date de 0 à 1000 ms\n",
    "t = []\n",
    "for ti in range(0,1000):\n",
    "    t.append(ti)\n",
    "\n",
    "# création d'un liste d'abscisses de 0 à 1000 mm\n",
    "x = []\n",
    "for xi in range(0,1000):\n",
    "    x.append(xi)\n",
    "\n",
    "#tracer de la représentation spatiale\n",
    "representation_spatiale(3,x,t)\n",
    "plt.show()\n",
    "\n",
    "# tracer de la représentation temporelle\n",
    "representation_temp(100,x,t)\n",
    "plt.show()"
   ]
  },
  {
   "cell_type": "markdown",
   "metadata": {},
   "source": [
    "<div class=\"alert alert-block alert-success\">\n",
    "    <details>\n",
    "        <summary> <b> Aides </b> </summary>\n",
    "        <ul>\n",
    "            <li> Attention aux unités </li>\n",
    "            <li> Si on connait la fréquence, on peut calculer la période  </li>\n",
    "        </ul>\n",
    "    </details>\n",
    "</div>"
   ]
  },
  {
   "cell_type": "markdown",
   "metadata": {},
   "source": [
    "<div class=\"alert alert-block alert-warning\">\n",
    " <details>\n",
    "        <summary> <b> Solution </b> </summary>\n",
    "     <p> Là tu exagères! il suffisait de lire les informations données dans le sujet ! </p>\n",
    "        <ul>\n",
    "            <li> <b> Initialisation des variables: </b> L = 1000 / longueur_onde = 300 / periode = 100</li>\n",
    "        </ul>\n",
    "    </details>\n",
    "</div>"
   ]
  },
  {
   "cell_type": "markdown",
   "metadata": {},
   "source": [
    "## Partie 2 : célérité d'une onde"
   ]
  },
  {
   "cell_type": "markdown",
   "metadata": {},
   "source": [
    "<div class=\"alert alert-block alert-info\">\n",
    "     <b> Consignes: </b>\n",
    "     <ul>\n",
    "        <li> Exécuter la cellule suivante et passer à la suite  </li>\n",
    "    </ul>\n",
    "</div>"
   ]
  },
  {
   "cell_type": "code",
   "execution_count": null,
   "metadata": {},
   "outputs": [],
   "source": [
    "def affiche_point(x, y, i, couleur):\n",
    "    \"\"\" fonction prenant en argument l'indice du point que l'on veut \n",
    "    mettre en évidence dans le graphique et la couleur choisie.\"\"\"\n",
    "\n",
    "    plt.plot([x[i], x[i]], \n",
    "             [y[i], y[i]], marker = \"o\", color = couleur)\n",
    "    plt.plot([x[i], x[i]], \n",
    "             [- 1.5 * amplitude, 1.5 * amplitude], \n",
    "             linestyle = \":\", color = couleur)\n",
    "\n",
    "def affiche_propagation(x,y, couleur):\n",
    "    ''' Fonction prendnat en argument les liste x et y et une couleur et trace sur le graphique les points correspondant aux maximum\n",
    "    de la courbe dans la représentation spatiale'''\n",
    "    for i in range(len(x)):\n",
    "        if y[i] == 1:\n",
    "            plt.plot(x[i], y[i], 'o', color=couleur)"
   ]
  },
  {
   "cell_type": "markdown",
   "metadata": {},
   "source": [
    "<div class=\"alert alert-block alert-info\">\n",
    "    <b> Consignes </b>\n",
    "    <ul>\n",
    "        <li> Compléter la cellule suivante de manière à tracer y en fonction de x aux dates  allant de 0 ms à 25 ms toutes les 5 ms</li>\n",
    "        <li> Exécuter la cellule et vérifier qu'il n'y a pas d'erreur </li>\n",
    "        <li> Modifier les valeurs des caractéristiques de l'onde (périodes, fréquences, amplitudes) et exécuter à nouveau </li>  \n",
    "        <li> Observer les différences au niveau des graphiques obtenus. </li>\n",
    "    </ul>\n",
    "</div>"
   ]
  },
  {
   "cell_type": "code",
   "execution_count": null,
   "metadata": {
    "tags": []
   },
   "outputs": [],
   "source": [
    "# Initialisation des variables\n",
    "L = 1000 # mm\n",
    "t = ...  # ms\n",
    "delta_t = ... # ms\n",
    "# Caractéristiques de l'ondes\n",
    "longueur_onde = 300 # mm\n",
    "periode = 100 # ms\n",
    "amplitude = 1\n",
    "\n",
    "\n",
    "# Création d'une liste d'abscisse de 0 à 1000 mm\n",
    "x = []\n",
    "for xi in range(0, 1001):\n",
    "    x.append(xi)\n",
    "N = len(x)\n",
    "\n",
    "\n",
    "for i in range(...): \n",
    "    # Pour une date t donnée,  pour chaque valeur de la liste x, on ajoute l'image dans y\n",
    "    y = []\n",
    "    for j in range(N):\n",
    "        y.append(...)\n",
    "    # Éléments graphique \n",
    "    plt.xlim(0, L)\n",
    "    plt.ylim(-1.5 * amplitude, 1.5 * amplitude)\n",
    "    plt.xlabel(\"x (en mm)\")\n",
    "    plt.ylabel(\"y(en mm)\")\n",
    "    plt.title(\"Propagation d'une onde sinusoïdale\")\n",
    "\n",
    "    plt.plot(x, y, \"b-\", label = f\"t = {t} ms\") \n",
    "    plt.legend()\n",
    "    plt.grid()\n",
    "\n",
    "    affiche_point(x, y, 300, \"red\")       \n",
    "    affiche_propagation(x,y,\"green\")\n",
    "    \n",
    "    plt.show()\n",
    "    t = ... # on incrémente la date de delta_t"
   ]
  },
  {
   "cell_type": "markdown",
   "metadata": {},
   "source": [
    "<div class=\"alert alert-block alert-success\">\n",
    "    <details>\n",
    "        <summary> <b> Aides </b> </summary>\n",
    "        <ul>\n",
    "            <li><b> Ligne 3 : </b> la date initiale est .... </li>\n",
    "            <li> <b> Lignes 4 et 18 : </b> bien lire la première consigne sachant que la dernière valeur dans le \"range\" est exclue </li>\n",
    "            <li> <b> Ligne 22 : </b> reprendre l'expression de y donnée dans le cours et se placer à une date t fixée.  </li>\n",
    "            <li> <b> Ligne 18 : </b> incrémenter signifie augmenter de... </li>\n",
    "        </ul>\n",
    "    </details>\n",
    "</div>"
   ]
  },
  {
   "cell_type": "markdown",
   "metadata": {
    "tags": []
   },
   "source": [
    "<div class=\"alert alert-block alert-warning\">\n",
    " <details>\n",
    "        <summary> <b> Solution </b> </summary>\n",
    "        <ul>\n",
    "            <li> <b> Ligne 3 : </b> t = 0 </li>\n",
    "            <li> <b> Ligne 5 : </b> delta_t = 5 </li>\n",
    "            <li> <b> Ligne 18 : </b> for i in range(0, 6):  </li>\n",
    "            <li> <b> Ligne 22 : </b> y.append(amplitude * sin((2 * pi * t / periode) - (2 * pi * x[j] / longueur_onde)))</li>\n",
    "            <li> <b> Ligne 38 : </b> t = t + delta_t </li>\n",
    "        </ul>\n",
    "    </details>\n",
    "</div>"
   ]
  },
  {
   "cell_type": "code",
   "execution_count": null,
   "metadata": {},
   "outputs": [],
   "source": []
  }
 ],
 "metadata": {
  "kernelspec": {
   "display_name": "Python 3",
   "language": "python",
   "name": "python3"
  },
  "language_info": {
   "codemirror_mode": {
    "name": "ipython",
    "version": 3
   },
   "file_extension": ".py",
   "mimetype": "text/x-python",
   "name": "python",
   "nbconvert_exporter": "python",
   "pygments_lexer": "ipython3",
   "version": "3.7.9"
  }
 },
 "nbformat": 4,
 "nbformat_minor": 4
}
