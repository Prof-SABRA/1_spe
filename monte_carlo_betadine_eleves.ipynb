{
 "cells": [
  {
   "cell_type": "markdown",
   "id": "99cd30e0-5d7f-4466-a1ee-4330c5564458",
   "metadata": {
    "tags": []
   },
   "source": [
    "<h1 align=\"center\" style=\"font-size:30px\"> Détermination de l'incertidude d'un titrage colorimétrique par la méthode de Monte-Carlo </h1> "
   ]
  },
  {
   "cell_type": "markdown",
   "id": "f8ee869f-91eb-4767-b490-6425189efb46",
   "metadata": {
    "tags": []
   },
   "source": [
    "<h1 align=\"center\" style=\"font-size:20px\"> Méthode de Monte-Carlo </h1> "
   ]
  },
  {
   "cell_type": "markdown",
   "id": "625107fd-1c5d-4064-b28f-c9032a0f4ec8",
   "metadata": {},
   "source": [
    "<div class=\"alert alert-block alert-danger\">\n",
    "    <p> Après avoir déterminer la concentration de diiode dans la bétadine, on souhaite évaluer l'incertitude associée à la valeur.</p>\n",
    "    <p> La <b> méthode de Monte-Carlo </b> consisite à simuler un grand nombre de titrage en tenant compte des incertitude associées au volume et à la concentration de solution  titrée et au volume équivalent.</p>\n",
    "</div>"
   ]
  },
  {
   "cell_type": "markdown",
   "id": "58982e4c-92e1-44fd-b76e-6aad5e6061ed",
   "metadata": {},
   "source": [
    "<img src=\"titrage_A_B.jpg\" style=\"width:40%; margin-left: auto;margin-right: auto;\">"
   ]
  },
  {
   "cell_type": "markdown",
   "id": "513fb5a6-0bfc-4cd6-ba54-cc00cb9861a2",
   "metadata": {},
   "source": [
    "$$aA + bB \\longrightarrow cC + dD$$"
   ]
  },
  {
   "cell_type": "markdown",
   "id": "5304da24-cfe6-4db4-8618-da1287cbf848",
   "metadata": {
    "tags": []
   },
   "source": [
    "<div class=\"alert alert-block alert-info\">\n",
    "    <b> Consignes </b>\n",
    "    <p> Exécuter la cellule suivante\n",
    "</div>"
   ]
  },
  {
   "cell_type": "code",
   "execution_count": null,
   "id": "24ed6a70-16a1-4770-bca0-b9e8e903a0b7",
   "metadata": {},
   "outputs": [],
   "source": [
    "#Importation  des bibliothèque\n",
    "import matplotlib.pyplot as plt\n",
    "import numpy as np\n",
    "#\n",
    "### Définition des fonctions ###\n",
    "def Tiragealéatoire(L):\n",
    "    tirage=np.random.normal()\n",
    "    return L[0]+L[1]*tirage\n",
    "    '''Renvoie  une valeur aléatoire comprise entre X-u(X) et X+u(X)\n",
    "    en suivant une loie normale\n",
    "\n",
    "    Argument :\n",
    "    liste -- liste [X, u(X]\n",
    "    '''"
   ]
  },
  {
   "cell_type": "markdown",
   "id": "561aba89-ffe5-49e9-8e6b-17177c535095",
   "metadata": {
    "tags": []
   },
   "source": [
    "<div class=\"alert alert-block alert-info\">\n",
    "    <b> Consignes </b>\n",
    "    <p> Compléter et exécuter la cellule suivante (question 2)</p>\n",
    "</div>"
   ]
  },
  {
   "cell_type": "code",
   "execution_count": null,
   "id": "8420445d-6a24-4608-a663-4017511e47fa",
   "metadata": {},
   "outputs": [],
   "source": [
    "### Données et valeurs expérimentales ###\n",
    "C_B=[..., ...]       # A Compléter [mesure, incertitude]\n",
    "V_A=[..., ...]\n",
    "V_E=[..., ...]"
   ]
  },
  {
   "cell_type": "markdown",
   "id": "cb271d6d-5a70-4208-bfad-4b19e5140878",
   "metadata": {
    "tags": []
   },
   "source": [
    "<div class=\"alert alert-block alert-info\">\n",
    "    <b> Consignes </b>\n",
    "    <p> Exécuter la cellule suivant</p>\n",
    "</div>"
   ]
  },
  {
   "cell_type": "code",
   "execution_count": null,
   "id": "54a95d2c-bb94-48f6-93e6-76b15f559a57",
   "metadata": {},
   "outputs": [],
   "source": [
    "# coefficients stoechiométriques\n",
    "a = 1\n",
    "b = 2\n",
    "CA = []  # Création de la liste contenant les valeurs pour chaque \"titrage\"\n",
    "iteration = 100000\n",
    "#\n",
    "# calcul de cA pour chaque itération\n",
    "for i in range(iteration):\n",
    "    CA.append(a / b * Tiragealéatoire(C_B) * Tiragealéatoire(V_E) \n",
    "              / Tiragealéatoire(V_A))\n",
    "#\n",
    "# la meilleure valeure est la moyenne\n",
    "moy_CA = sum(CA) / iteration\n",
    "# Calcul de l'incertitude (relation qui n'est pas à connaitre)\n",
    "u_CA=(1/(99999)*sum((np.array(CA)-moy_CA)**2.))**0.5\n",
    "# Affichage\n",
    "print('Concentration CA :', moy_CA,' mol/L')\n",
    "print('Incertitude u_CA :', u_CA,' mol/L')\n"
   ]
  },
  {
   "cell_type": "markdown",
   "id": "7b05285d-725b-4468-90d7-04411ff65730",
   "metadata": {
    "tags": []
   },
   "source": [
    "<div class=\"alert alert-block alert-info\">\n",
    "    <b> Consignes </b>\n",
    "    <p>La concentration retenue est la moyenne de la distribution de valeurs obtenuent par la simulation des titrages. L'incertitudes est liées à l'écart-type de cette distribution.</p>\n",
    "    <p> Pour visualiser l'ensemble des ces valeurs, on peut tracer l'histogramme suivant: \n",
    "        (exécuter la cellule ci-dessous)\n",
    "</div>"
   ]
  },
  {
   "cell_type": "code",
   "execution_count": null,
   "id": "eac9a715-8687-4ee8-aa52-1a2eec66616c",
   "metadata": {},
   "outputs": [],
   "source": [
    "# Tracé de l'histogramme\n",
    "plt.hist(CA, rwidth=1, bins=30, edgecolor=\"black\")\n",
    "plt.title(f\"Histogramme pour {iteration:.0f} itérations\")\n",
    "plt.ylabel(\"Effectif\")\n",
    "plt.xlabel(\"cA (en mol.L\\u207B\\u00B9)\")\n",
    "plt.ticklabel_format(style='sci', axis='x',scilimits=(0,0))\n",
    "plt.show()"
   ]
  },
  {
   "cell_type": "markdown",
   "id": "66537990-401d-4eeb-9238-24d7f80c1d75",
   "metadata": {
    "tags": []
   },
   "source": [
    "<div class=\"alert alert-block alert-info\">\n",
    "    <b> Consignes </b>\n",
    "    <p> Compléter et exécuter la cellule suivante (question 3)</p>\n",
    "</div>"
   ]
  },
  {
   "cell_type": "code",
   "execution_count": null,
   "id": "f403deea-d68f-481c-a15a-3f14105c5626",
   "metadata": {},
   "outputs": [],
   "source": [
    "# Calcul de la concentration en masse\n",
    "Cm = ...\n",
    "u_Cm = ...\n",
    "# Affichage\n",
    "print('Concentration C_m :', Cm,' g/L')\n",
    "print('Incertitude u_Cm :', u_Cm,' g/L')"
   ]
  },
  {
   "cell_type": "markdown",
   "id": "e8451338-ab66-4063-9b8d-cfac5337d868",
   "metadata": {
    "tags": []
   },
   "source": [
    "<div class=\"alert alert-block alert-success\">\n",
    "    <details>\n",
    "        <summary> <b> Aides </b> </summary>\n",
    "        <ul>\n",
    "            <li> $ M = \\frac{c_m}{c} $ </li>\n",
    "            <li> La masse molaire de la polyvidone iodée est données dans le poly de l'activité... </li>\n",
    "            <li> La relation entre entre les incertitudes est la même qu'entre les grandeurs</li>\n",
    "        </ul>\n",
    "    </details>\n",
    "</div>"
   ]
  },
  {
   "cell_type": "markdown",
   "id": "faa8fc0a-272d-4900-b306-12e9d8c8d1ae",
   "metadata": {
    "tags": []
   },
   "source": [
    "<div class=\"alert alert-block alert-info\">\n",
    "    <b> Consignes </b>\n",
    "    <p> Compléter et exécuter la cellule suivante (question 4)</p>\n",
    "</div>"
   ]
  },
  {
   "cell_type": "code",
   "execution_count": null,
   "id": "d9eaa8a1-1cf2-4715-ade6-99c69a417685",
   "metadata": {},
   "outputs": [],
   "source": [
    "# Calcul de la masse de polyvidone iodée dans 100 mL\n",
    "m = ...\n",
    "u_m = ...\n",
    "print('masse dans 100 mL : ', m, 'g')\n",
    "print('Incertitude u_m :', u_m, 'g')"
   ]
  },
  {
   "cell_type": "markdown",
   "id": "05602a8b-1728-45ff-b0bd-fd995a5787d4",
   "metadata": {
    "tags": []
   },
   "source": [
    "<div class=\"alert alert-block alert-success\">\n",
    "    <details>\n",
    "        <summary> <b> Aides </b> </summary>\n",
    "        $$ c_m = \\frac{m}{V} $$\n",
    "    </details>\n",
    "</div>"
   ]
  },
  {
   "cell_type": "markdown",
   "id": "6e8760b8-3a90-4513-900c-01d0b1f3fd9c",
   "metadata": {
    "tags": []
   },
   "source": [
    "<div class=\"alert alert-block alert-info\">\n",
    "    <b> Consignes </b>\n",
    "    <p> Compléter et exécuter la cellule suivante (question 5)</p>\n",
    "</div>"
   ]
  },
  {
   "cell_type": "code",
   "execution_count": null,
   "id": "cd932e8c-a226-4c33-8ce8-e6445d32971a",
   "metadata": {},
   "outputs": [],
   "source": [
    "#Comparaison avec la valeur de référence\n",
    "if... :\n",
    "    print('La valeur trouvée est conforme avec la valeur de référence')\n",
    "else :\n",
    "    print('La valeur trouvée n\\'est pas conforme avec la valeur de référence')"
   ]
  },
  {
   "cell_type": "markdown",
   "id": "ef1ed625-7128-4c69-a7d5-44febbbe3847",
   "metadata": {
    "tags": []
   },
   "source": [
    "<div class=\"alert alert-block alert-success\">\n",
    "    <details>\n",
    "        <summary> <b> Aides </b> </summary>\n",
    "        Pour un encadrement, on utilisera deux conditions avec un <b>end</b>.\n",
    "    </details>\n",
    "</div>"
   ]
  }
 ],
 "metadata": {
  "kernelspec": {
   "display_name": "Python 3",
   "language": "python",
   "name": "python3"
  },
  "language_info": {
   "codemirror_mode": {
    "name": "ipython",
    "version": 3
   },
   "file_extension": ".py",
   "mimetype": "text/x-python",
   "name": "python",
   "nbconvert_exporter": "python",
   "pygments_lexer": "ipython3",
   "version": "3.8.10"
  }
 },
 "nbformat": 4,
 "nbformat_minor": 5
}
