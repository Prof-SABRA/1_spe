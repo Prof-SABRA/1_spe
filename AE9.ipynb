{
 "cells": [
  {
   "cell_type": "markdown",
   "id": "recorded-characterization",
   "metadata": {},
   "source": [
    "# AE9 : 2e loi de Newton et calcul approché du vecteur vitesse."
   ]
  },
  {
   "cell_type": "markdown",
   "id": "vanilla-carnival",
   "metadata": {},
   "source": [
    "<div class=\"alert alert-block alert-danger\">\n",
    "\n",
    "**CONSIGNES GENERALES**\n",
    "    \n",
    "* Bien lire les consignes dans les cadres bleu.\n",
    "* Avant de passer à la questions suivante, penser à exécuter la cellule de code modifiée\n",
    "* En cas de blocage trop important, regarder la solution et copier / coller le code \n",
    "</div>"
   ]
  },
  {
   "cell_type": "markdown",
   "id": "suburban-superior",
   "metadata": {},
   "source": [
    "<div class=\"alert alert-block alert-info\">\n",
    "\n",
    "**Résultats expérimentaux**\n",
    "\n",
    "Exécuter la cellule ci-dessous\n",
    "</div>"
   ]
  },
  {
   "cell_type": "code",
   "execution_count": 1,
   "id": "removed-archive",
   "metadata": {},
   "outputs": [],
   "source": [
    "y =  [0.2771535581, 0.5730337079, 0.808988764, 1.014981273, 1.164794007, 1.269662921, 1.337078652, 1.359550562, 1.34082397, 1.27340824, 1.176029963, 1.007490637, 0.8314606742, 0.5767790262, 0.3071161049]\n",
    "x =  [0.2397003745, 0.393258427, 0.5505617978, 0.7003745318, 0.8501872659, 1.0, 1.149812734, 1.284644195, 1.445692884, 1.599250936, 1.741573034, 1.91011236, 2.041198502, 2.202247191, 2.344569288]\n",
    "t =  [0.0, 0.066667, 0.133334, 0.200001, 0.266668, 0.333335, 0.400002, 0.466669, 0.533336, 0.600003, 0.66667, 0.733337, 0.800004, 0.866671, 0.933338]"
   ]
  },
  {
   "cell_type": "markdown",
   "id": "adjacent-sydney",
   "metadata": {},
   "source": [
    "## 1. Le vecteurs vitesse"
   ]
  },
  {
   "cell_type": "markdown",
   "id": "judicial-healing",
   "metadata": {},
   "source": [
    "### 1.1. Une fonction pour tracer le vecteur vitesse <a id=\"vect_vit\"> </a>\n"
   ]
  },
  {
   "cell_type": "markdown",
   "id": "meaning-jefferson",
   "metadata": {},
   "source": [
    "<div class=\"alert alert-block alert-info\">\n",
    "<b> Consignes </b>\n",
    "    \n",
    "* Compléter la ligne 5 \n",
    "* Compléter la ligne 8\n",
    "    \n",
    "</div>"
   ]
  },
  {
   "cell_type": "code",
   "execution_count": null,
   "id": "aging-attitude",
   "metadata": {},
   "outputs": [],
   "source": [
    "def vect_vitesse(x, y, t, i):\n",
    "    '''x , y et t : listes des coordonnées de la trajectoires et des dates\n",
    "    i : indice du point pour lequel on souhaite tracer le vecteur vitesse'''\n",
    "    dt = t[2] - t[1]\n",
    "    vx_i = ... \n",
    "    vy_i = vy_i = (y[i+1] - y[i-1]) / (2 * dt)\n",
    "\n",
    "    plt.quiver(..., ..., ..., ..., angles='xy', scale_units='xy', scale=7, color = \"blue\")"
   ]
  },
  {
   "cell_type": "markdown",
   "id": "blond-admission",
   "metadata": {},
   "source": [
    "<div class=\"alert alert-block alert-success\"> \n",
    "<details>\n",
    "    <summary><b>Aide</b></summary>\n",
    "    <ul>\n",
    "    <li>Pour compléter la ligne 6, on peut s'inspirer de la ligne précédente </li>\n",
    "    <li>Les deux premiers argument correspondent aux coordonnées du points d'indice i et les deux suivants aux composantes du vecteur calculées juste au dessus </li>\n",
    "    </ul>\n",
    "</details>\n",
    "</div>"
   ]
  },
  {
   "cell_type": "markdown",
   "id": "contrary-dance",
   "metadata": {},
   "source": [
    "<div class=\"alert alert-warning\">\n",
    "<details>\n",
    "    <summary><b>Solution</b></summary>\n",
    "    <p> Copier / coller les lignes suivantes: </p>\n",
    "        <ul>\n",
    "            <li> <b>Ligne 6 </b>: vy_i = vy_i = (y[i+1] - y[i-1]) / (2 * dt) </li>\n",
    "            <li><b> Ligne 8</b> : plt.quiver(x[i], y[i], vx_i, vy_i, angles='xy', scale_units='xy', scale=7, color = \"blue\")</li>\n",
    "        </ul>\n",
    "</details>\n",
    "</div>"
   ]
  },
  {
   "cell_type": "markdown",
   "id": "acknowledged-africa",
   "metadata": {},
   "source": [
    "### 1.2. Utiliser la fonction pour tracer des vecteurs vitesses"
   ]
  },
  {
   "cell_type": "markdown",
   "id": "sustainable-choir",
   "metadata": {},
   "source": [
    "<div class=\"alert alert-block alert-info\">\n",
    "    <b> Consignes </b>\n",
    "    \n",
    "* Ajouter trois lignes permettant de tracer le vecteur vitesse $\\vec{v}$ aux pointx $M_3$, $M_5$ et $M_7$\n",
    "* Ajuster l'échelle de la cellule précédente ci-nécessaire (et l'exécuter après chaque changement)\n",
    "</div>"
   ]
  },
  {
   "cell_type": "code",
   "execution_count": null,
   "id": "boxed-bride",
   "metadata": {},
   "outputs": [],
   "source": [
    " # tracé de la trajectoire\n",
    "plt.plot(x,y,'o:')\n",
    "plt.ylim(0, 1.2*max(y)) \n",
    "plt.xlim(0, 1.2*max(x))\n",
    "# tracé des vecteurs vitesse\n",
    "...\n",
    "...\n",
    "..."
   ]
  },
  {
   "cell_type": "markdown",
   "id": "secret-alignment",
   "metadata": {},
   "source": [
    "<div class=\"alert alert-block alert-success\"> \n",
    "<details>\n",
    "    <summary><b>Aide</b></summary>\n",
    "    \n",
    "   * [Tracer un graphique avec python](https://tube-creteil.beta.education.fr/videos/watch/8ba61fa9-08ac-4e32-947b-dbcafc736fa6) -->  0 à 2'30 \n",
    "   * Il faut appeler la fonction vecteur_vitesse en précisant l'indice du point où on souhaite tracer le vecteur.\n",
    "   * Une instruction pour chaque vecteur souhaité\n",
    "   \n",
    "</details>\n",
    "</div>"
   ]
  },
  {
   "cell_type": "markdown",
   "id": "posted-orbit",
   "metadata": {},
   "source": [
    "<div class=\"alert alert-warning\">\n",
    "<details>\n",
    "    <summary><b>Solution</b></summary>\n",
    "    <p> Copier / coller les lignes suivantes: </p>\n",
    "    \n",
    "plt.plot(x,y,'o:') # tracé de la trajectoire\n",
    "    \n",
    "plt.ylim(0, 1.2*max(y)) \n",
    "    \n",
    "plt.xlim(0, 1.2*max(x))\n",
    "    \n",
    "vect_vitesse(x, y, t, 3)\n",
    "    \n",
    "vect_vitesse(x, y, t, 5)\n",
    "    \n",
    "vect_vitesse(x, y, t, 7)\n",
    "</details>\n",
    "</div>"
   ]
  },
  {
   "cell_type": "markdown",
   "id": "warming-beginning",
   "metadata": {},
   "source": [
    "### 1.3. En utilisant une boucle for <a id=\"boucle_for\">  </a>"
   ]
  },
  {
   "cell_type": "markdown",
   "id": "positive-biotechnology",
   "metadata": {},
   "source": [
    "<div class=\"alert alert-block alert-info\">\n",
    "    <b> Consignes </b>\n",
    "    \n",
    "* Ajouter une boucle for permettant de tracer les vecteurs vitesses sur toutes les positions sauf la première et la dernière\n",
    "* Ajuster l'échelle de la cellule précédente ci-nécessaire (et l'exécuter après chaque changement)\n",
    "</div>"
   ]
  },
  {
   "cell_type": "code",
   "execution_count": null,
   "id": "short-mathematics",
   "metadata": {},
   "outputs": [],
   "source": [
    "plt.plot(x,y,'o:') # tracé de la trajectoire\n",
    "plt.ylim(0, 1.2*max(y))\n",
    "plt.xlim(0, 1.2*max(x))\n",
    "N = len(t) # Nombre de points\n",
    "for ...:\n",
    "    ......."
   ]
  },
  {
   "cell_type": "markdown",
   "id": "frequent-wright",
   "metadata": {},
   "source": [
    "<div class=\"alert alert-block alert-success\"> \n",
    "<details>\n",
    "    <summary><b>Aide</b></summary>\n",
    "    <ul>\n",
    "        <li> Pour parcourir une liste de N éléments, on utilise -->  for i in range(0,N): </li>\n",
    "        <li> Penser aux \":\" à la fin de la ligne 5 </li>\n",
    "        <li> Penser à l'indentation au début de la ligne 6 </li>\n",
    "    </ul>\n",
    "   \n",
    "</details>\n",
    "</div>"
   ]
  },
  {
   "cell_type": "markdown",
   "id": "spread-express",
   "metadata": {},
   "source": [
    "<div class=\"alert alert-warning\">\n",
    "<details>\n",
    "    <summary><b>Solution</b></summary>\n",
    "    <ul>\n",
    "        <li><b>Ligne 5 : </b> for i in range(1, n-1): </li>\n",
    "        <li><b>Ligne 6 : </b> vect_vitesse(x, y, t, i)</li>\n",
    "    </ul>\n",
    "</details>\n",
    "</div>"
   ]
  },
  {
   "cell_type": "markdown",
   "id": "metric-argument",
   "metadata": {},
   "source": [
    "## 2. Le vecteur variation de vitesse"
   ]
  },
  {
   "cell_type": "markdown",
   "id": "cultural-booth",
   "metadata": {},
   "source": [
    "### 2.1. Une fonction pour tracer le vecteur $\\vec{\\Delta v}$ <a id=\"vect_delta_v\"> </a>"
   ]
  },
  {
   "cell_type": "markdown",
   "id": "psychological-sheriff",
   "metadata": {},
   "source": [
    "<div class=\"alert alert-block alert-info\">\n",
    "    <b> Consigne </b>\n",
    "    \n",
    "* Compléter le script pour que la fonction trace le vecteur  $\\vec{\\Delta v}$ au point i\n",
    "</div>"
   ]
  },
  {
   "cell_type": "code",
   "execution_count": 81,
   "id": "indoor-magazine",
   "metadata": {},
   "outputs": [],
   "source": [
    "def vect_delta_v(x, y, t, i):\n",
    "    '''x , y et t : listes des coordonnées de la trajectoires et des dates\n",
    "    i : indice du point pour lequel on souhaite tracer le vecteur delta_v'''\n",
    "\n",
    "    dt = t[1] - t[0]\n",
    "# détermination des coordonnées du vecteur vitesse de la position M_i-1\n",
    "    vx1 = (x[i] - x[i-2]) / (2*dt)\n",
    "    vy1 = (y[i] - y[i-2]) / (2*dt)\n",
    "# détermination des coordonnées du vecteur vitesse de la position M_i+1\n",
    "    vx2 = ...\n",
    "    vy2 = ...\n",
    "# détermination des coordonnées du vecteur delta_v de la position M_i\n",
    "    dvx = ...\n",
    "    dvy = ...\n",
    "#Tracer du vecteur\n",
    "    vect_dv = plt.quiver(..., ..., ..., ..., angles='xy', scale_units='xy', scale=4, color=\"red\")"
   ]
  },
  {
   "cell_type": "markdown",
   "id": "affected-devices",
   "metadata": {},
   "source": [
    "<div class=\"alert alert-block alert-success\"> \n",
    "<details>\n",
    "    <summary><b>Aide</b></summary>\n",
    "    \n",
    "   * Pour tracer le vecteur vitesse au point  $M_{i+1}$, il faut le point suivant ($M_{i+2}$) et le point précédent ($M_{i}$).\n",
    "   * L'addition ou la différence de deux vecteur s'optient par addition ou différence de leurs coordonnées.\n",
    "   \n",
    "</details>\n",
    "</div>"
   ]
  },
  {
   "cell_type": "markdown",
   "id": "referenced-tumor",
   "metadata": {},
   "source": [
    "<div class=\"alert alert-warning\">\n",
    "<details>\n",
    "    <summary><b>Solution</b></summary>\n",
    "    <ul>\n",
    "        <li><b>Ligne 10: </b> vx2 = (x[i+2] - x[i]) / (2*dt)</li>\n",
    "        <li><b>Ligne 11: </b> vy2 = (y[i+2] - y[i]) / (2*dt)</li>\n",
    "        <li><b>Ligne 13: </b> dvx = vx2 - vx1 </li>\n",
    "        <li><b>Ligne 14: </b> dvy = vy2 - vy1 </li>\n",
    "        <li><b>Ligne 16: </b> vect_dv = plt.quiver(x[i], y[i], dvx, dvy, angles='xy', scale_units='xy', scale=4, color=\"red\")</li>\n",
    "    </ul>\n",
    "</details>\n",
    "</div>"
   ]
  },
  {
   "cell_type": "markdown",
   "id": "preliminary-stereo",
   "metadata": {},
   "source": [
    "### 2.2. Utiliser la fonction pour tracer des vecteurs $\\vec{\\Delta v}$"
   ]
  },
  {
   "cell_type": "markdown",
   "id": "overhead-participant",
   "metadata": {},
   "source": [
    "<div class=\"alert alert-block alert-info\">\n",
    "    <b> Consigne </b>\n",
    "    <p> Comptéter le script pour tracer: </p>\n",
    "    <ul>\n",
    "        <li> les vecteurs vitesse $\\vec{v_5}$ et $\\vec{v_7}$ </li> \n",
    "        <li> le vecteur  $\\vec{\\Delta v_6}$ au point $M_2$ </li>\n",
    "</div>"
   ]
  },
  {
   "cell_type": "code",
   "execution_count": null,
   "id": "minor-combining",
   "metadata": {},
   "outputs": [],
   "source": [
    "plt.plot(x,y,'o:')\n",
    "plt.ylim(0, 1.2*max(y))\n",
    "plt.xlim(0, 1.2*max(x))\n",
    "...\n",
    "...\n",
    "...\n",
    "plt.show()"
   ]
  },
  {
   "cell_type": "markdown",
   "id": "administrative-artist",
   "metadata": {},
   "source": [
    "<div class=\"alert alert-block alert-success\"> \n",
    "<details>\n",
    "    <summary><b>Aide</b></summary>\n",
    "    \n",
    "   * Il faut appeler la fonction vec_vitesse pour les points $M_5$ et $M_7$\n",
    "   * Il faut appeler la fonction vect_delta_v pour le points $M_6$\n",
    "   \n",
    "</details>\n",
    "</div>"
   ]
  },
  {
   "cell_type": "markdown",
   "id": "checked-threat",
   "metadata": {},
   "source": [
    "<div class=\"alert alert-warning\">\n",
    "<details>\n",
    "    <summary><b>Solution</b></summary>\n",
    "    <ul>\n",
    "        <li><b> Ligne 4: </b> vect_vitesse(x, y, t, 5) </li>\n",
    "        <li><b> Ligne 5: </b> vect_vitesse(x, y, t, 7) </li>\n",
    "        <li><b> Ligne 6: </b> vect_delta_v(x, y, t, 6) </li>\n",
    "    </ul>\n",
    "</details>\n",
    "</div>"
   ]
  },
  {
   "cell_type": "markdown",
   "id": "legendary-uniform",
   "metadata": {},
   "source": [
    "### 2.3. Et en utilisant une boucle for"
   ]
  },
  {
   "cell_type": "markdown",
   "id": "senior-singles",
   "metadata": {},
   "source": [
    "<div class=\"alert alert-block alert-info\">\n",
    "    <b> Consigne </b>\n",
    "    <p> Ajouter une boucle for permettant de tracer tout les vecteur $\\vec{\\Delta v}$ pour tous les points <b>sauf les deux premiers et les deux dernier</b></p>\n",
    " \n",
    "</div>"
   ]
  },
  {
   "cell_type": "code",
   "execution_count": null,
   "id": "driving-strength",
   "metadata": {},
   "outputs": [],
   "source": [
    "plt.plot(x,y,'o:')\n",
    "plt.ylim(0, 1.2*max(y))\n",
    "plt.xlim(0, 1.2*max(x))\n",
    "N = len(t)\n",
    "for ... :\n",
    "    ..............\n",
    "plt.show()"
   ]
  },
  {
   "cell_type": "markdown",
   "id": "italian-cache",
   "metadata": {},
   "source": [
    "<div class=\"alert alert-block alert-success\"> \n",
    "<details>\n",
    "    <summary><b>Aide</b></summary>\n",
    "    \n",
    "[](#boucle_for)\n",
    "<a href=\"#boucle_for\">Voir le corrigé du 1.3.</a> \n",
    "   \n",
    "</details>\n",
    "</div>"
   ]
  },
  {
   "cell_type": "markdown",
   "id": "forward-village",
   "metadata": {},
   "source": [
    "<div class=\"alert alert-warning\">\n",
    "<details>\n",
    "    <summary><b>Solution</b></summary>\n",
    "     <ul>\n",
    "        <li><b>Ligne 5 : </b> for i in range(2, n-2): </li>\n",
    "        <li><b>Ligne 6 : </b> vect_vitesse(x, y, t, i)</li>\n",
    "    </ul>\n",
    "</details>\n",
    "</div>"
   ]
  },
  {
   "cell_type": "markdown",
   "id": "catholic-tackle",
   "metadata": {},
   "source": [
    "## 3. En utilisant la définition de 2de"
   ]
  },
  {
   "cell_type": "markdown",
   "id": "adapted-october",
   "metadata": {},
   "source": [
    "<div class=\"alert alert-block alert-info\">\n",
    "    <b> Consigne </b>\n",
    "    <p> Copier / coller dans la cellule suivante le code de  <a href=\"#vect_vit\">la partie 1.1. </a> et le modifier pour calculer les vecteur vitesse à l'aide de la méthode du \"point suivant\" vue en 2de</p>\n",
    " \n",
    "</div>"
   ]
  },
  {
   "cell_type": "code",
   "execution_count": null,
   "id": "obvious-wallet",
   "metadata": {},
   "outputs": [],
   "source": []
  },
  {
   "cell_type": "markdown",
   "id": "impaired-bloom",
   "metadata": {},
   "source": [
    "<div class=\"alert alert-block alert-success\"> \n",
    "<details>\n",
    "    <summary><b>Aide</b></summary>\n",
    "<ul>\n",
    "    <li> On considère le point $M_i$ et le point suivant $M_{i+1}$</li>\n",
    "    <li> La durée entre ces deux position est donc deux fois plus faible qu'avec définition précédente </li>\n",
    "    <li> Les deux seules lignes à modifier sont la 5 et la 6\n",
    "</details>\n",
    "</div>"
   ]
  },
  {
   "cell_type": "markdown",
   "id": "parental-collectible",
   "metadata": {},
   "source": [
    "<div class=\"alert alert-warning\">\n",
    "<details>\n",
    "    <summary><b>Solution</b></summary>\n",
    "     <ul>\n",
    "        <li><b>Ligne 5 : </b> vx_i = (x[i+1] - x[i]) / dt </li>\n",
    "        <li><b>Ligne 6 : </b> vy_i = vy_i = (y[i+1] - y[i) / dt </li>\n",
    "    </ul>\n",
    "</details>\n",
    "</div>"
   ]
  },
  {
   "cell_type": "markdown",
   "id": "separated-finland",
   "metadata": {},
   "source": [
    "<div class=\"alert alert-block alert-info\">\n",
    "    <b> Consigne </b>\n",
    "    <p> Copier / coller dans la cellule suivante le code de  <a href=\"#vect_delta_v\">la partie 2.1. </a> et le modifier pour calculer les vecteur variation de vitesse vitesse à l'aide de la méthode du \"point suivant\" vue en 2de</p>\n",
    " \n",
    "</div>"
   ]
  },
  {
   "cell_type": "code",
   "execution_count": null,
   "id": "elegant-cabinet",
   "metadata": {},
   "outputs": [],
   "source": []
  },
  {
   "cell_type": "markdown",
   "id": "waiting-freeware",
   "metadata": {},
   "source": [
    "<div class=\"alert alert-block alert-success\"> \n",
    "<details>\n",
    "    <summary><b>Aide</b></summary>\n",
    "    <ul>\n",
    "        <li> Pour tracer le vecteur vitesse au point  $M_{i+1}$, il faut le point suivant ($M_{i+2}$) et le point ($M_{i+1}$)</li>\n",
    "        <li> Pour tracer le vecteur vitesse au point  $M_{i-1}$, il faut le point suivant ($M_{i}$) et le point ($M_{i-1}$)</li>\n",
    "        <li> Il faut modifier les lignes 7, 8, 10 et 11 </li>\n",
    "</details>\n",
    "</div>"
   ]
  },
  {
   "cell_type": "markdown",
   "id": "proved-questionnaire",
   "metadata": {},
   "source": [
    "<div class=\"alert alert-warning\">\n",
    "<details>\n",
    "    <summary><b>Solution</b></summary>\n",
    "     <ul>\n",
    "        <li><b>Ligne 7 : </b> vx1 = (x[i] - x[i-1]) / dt </li>\n",
    "        <li><b>Ligne 8 : </b>  vy1 = (y[i] - y[i-1]) / dt </li>\n",
    "        <li><b>Ligne 10 : </b> vx2 = (x[i+2] - x[i+1]) / dt </li>\n",
    "        <li><b>Ligne 11 : </b> vy2 = (y[i+2] - y[i+1]) / dt </li>\n",
    "    </ul>\n",
    "</details>\n",
    "</div>"
   ]
  },
  {
   "cell_type": "markdown",
   "id": "legendary-default",
   "metadata": {},
   "source": [
    "<div class=\"alert alert-block alert-info\">\n",
    "    <b> Consigne </b>\n",
    "    <ul>\n",
    "        <li> Exécuter la cellule suivante</li>\n",
    "        <li> Noter dans le compte rendu la différence observé avec la méthode précédente </li>\n",
    "    </ul>\n",
    "</div>"
   ]
  },
  {
   "cell_type": "code",
   "execution_count": null,
   "id": "auburn-tracy",
   "metadata": {},
   "outputs": [],
   "source": [
    "plt.plot(x,y,'o:')\n",
    "plt.ylim(0, 1.2*max(y))\n",
    "plt.xlim(0, 1.2*max(x))\n",
    "for i in range(1, len(t)-1):\n",
    "    vect_vitesse(x, y, t, i)\n",
    "plt.show()\n",
    "\n",
    "plt.plot(x,y,'o:')\n",
    "plt.ylim(0, 1.2*max(y))\n",
    "plt.xlim(0, 1.2*max(x))\n",
    "for i in range(2, len(t)-2):\n",
    "    vect_delta_v(x, y, t, i)\n",
    "plt.show()\n",
    "\n",
    "print(\"Si les vecteurs variation de vitesse ne sont pas verticaux, c'est normal\")"
   ]
  },
  {
   "cell_type": "code",
   "execution_count": null,
   "id": "fallen-making",
   "metadata": {},
   "outputs": [],
   "source": []
  }
 ],
 "metadata": {
  "kernelspec": {
   "display_name": "Python 3",
   "language": "python",
   "name": "python3"
  },
  "language_info": {
   "codemirror_mode": {
    "name": "ipython",
    "version": 3
   },
   "file_extension": ".py",
   "mimetype": "text/x-python",
   "name": "python",
   "nbconvert_exporter": "python",
   "pygments_lexer": "ipython3",
   "version": "3.7.9"
  }
 },
 "nbformat": 4,
 "nbformat_minor": 5
}
