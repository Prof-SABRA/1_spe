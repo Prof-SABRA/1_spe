{
 "cells": [
  {
   "cell_type": "markdown",
   "id": "seasonal-worth",
   "metadata": {},
   "source": [
    "# AE9 : 2e loi de Newton et calcul approché du vecteur vitesse."
   ]
  },
  {
   "cell_type": "markdown",
   "id": "colored-imagination",
   "metadata": {},
   "source": [
    "<div class=\"alert alert-info\" role=\"alert\">\n",
    "\n",
    "## Importation des données \n",
    "* Exécuter la cellule ci-dessous et sélectrioner le fichier csv correspondant au pointage\n",
    "* On retrouve les valeurs de x, y et t dans trois listes aux noms évocateurs\n",
    "</div>"
   ]
  },
  {
   "cell_type": "code",
   "execution_count": null,
   "id": "dependent-superior",
   "metadata": {},
   "outputs": [],
   "source": [
    "import matplotlib.pyplot as plt\n",
    "import csv\n",
    "from tkinter.filedialog import askopenfilename\n",
    "from math import *\n",
    "\n",
    "### Importation des données ###\n",
    "fichier = askopenfilename(filetypes =((\"Fichier CSV\", \"*.csv\"),(\"Fichier Texte\",\"*.txt\"),(\"Tous les fichiers\",\"*.*\")),title = \"Choisir un fichier\")\n",
    "entete = 2 # Par défaut avec Tracker (on peut s'en rendre compte en ouvrant le fichier avec libreOffice Calc ou un editeur de texte.)\n",
    "sep = ';' # Par défaut avec Tracker\n",
    "with open(fichier, 'r') as csvfile:\n",
    "    data = csvfile.readlines()# renvoie une liste de str (un elt par ligne)\n",
    "    data = data[entete :] # on supprime les entêtes.\n",
    "\n",
    "t = []\n",
    "x = []\n",
    "y = []\n",
    "for ligne in data:\n",
    "    ligne = ligne.replace(\",\" , \".\") #change les virgules en point => sur python, le séparateur de décimal est le \".\".\n",
    "    ligne = ligne.strip( ).split(sep) # on supprime les éventuels espaces et on sépare les différents élément en utilisant le caractère séparateur défini\n",
    "    ligne = list(map(float,ligne)) # on convertit chaque ligne en liste de float\n",
    "\n",
    "    #on rentre les valeurs dans les listes adaptées:\n",
    "    t.append(ligne[0])\n",
    "    x.append(ligne[1])\n",
    "    y.append(ligne[2])"
   ]
  },
  {
   "cell_type": "markdown",
   "id": "specific-mercury",
   "metadata": {},
   "source": [
    "## 1. Le vecteurs vitesse"
   ]
  },
  {
   "cell_type": "markdown",
   "id": "experienced-value",
   "metadata": {},
   "source": [
    "### 1.1. Une fonction pour tracer le vecteur vitesse <a id=\"vect_vit\"> </a>\n"
   ]
  },
  {
   "cell_type": "markdown",
   "id": "plain-external",
   "metadata": {},
   "source": [
    "<div class=\"alert alert-block alert-info\">\n",
    "<b> Consignes </b>\n",
    "    \n",
    "* Compléter la ligne 5 \n",
    "* Compléter la ligne 8\n",
    "    \n",
    "</div>"
   ]
  },
  {
   "cell_type": "code",
   "execution_count": null,
   "id": "front-finger",
   "metadata": {},
   "outputs": [],
   "source": [
    "def vect_vitesse(x, y, t, i):\n",
    "    '''x , y et t : listes des coordonnées de la trajectoires et des dates\n",
    "    i : indice du point pour lequel on souhaite tracer le vecteur vitesse'''\n",
    "    dt = t[2] - t[1]\n",
    "    vx_i = ... \n",
    "    vy_i = vy_i = (y[i+1] - y[i-1]) / (2 * dt)\n",
    "\n",
    "    plt.quiver(..., ..., ..., ..., angles='xy', scale_units='xy', scale=7, color = \"blue\")"
   ]
  },
  {
   "cell_type": "markdown",
   "id": "fallen-living",
   "metadata": {},
   "source": [
    "<div class=\"alert alert-block alert-success\"> \n",
    "<details>\n",
    "    <summary><b>Aide</b></summary>\n",
    "    <ul>\n",
    "    <li>Pour compléter la ligne 6, on peut s'inspirer de la ligne précédente </li>\n",
    "    <li>Les deux premiers argument correspondent aux coordonnées du points d'indice i et les deux suivants aux composantes du vecteur calculées juste au dessus </li>\n",
    "    </ul>\n",
    "</details>\n",
    "</div>"
   ]
  },
  {
   "cell_type": "markdown",
   "id": "answering-economics",
   "metadata": {},
   "source": [
    "<div class=\"alert alert-warning\">\n",
    "<details>\n",
    "    <summary><b>Solution</b></summary>\n",
    "    <p> Copier / coller les lignes suivantes: </p>\n",
    "        <ul>\n",
    "            <li> <b>Ligne 6 </b>: vy_i = vy_i = (y[i+1] - y[i-1]) / (2 * dt) </li>\n",
    "            <li><b> Ligne 8</b> : plt.quiver(x[i], y[i], vx_i, vy_i, angles='xy', scale_units='xy', scale=7, color = \"blue\")</li>\n",
    "        </ul>\n",
    "</details>\n",
    "</div>"
   ]
  },
  {
   "cell_type": "markdown",
   "id": "million-selection",
   "metadata": {},
   "source": [
    "### 1.2. Utiliser la fonction pour tracer des vecteurs vitesses"
   ]
  },
  {
   "cell_type": "markdown",
   "id": "dying-array",
   "metadata": {},
   "source": [
    "<div class=\"alert alert-block alert-info\">\n",
    "    <b> Consignes </b>\n",
    "    \n",
    "* Ajouter trois lignes permettant de tracer le vecteur vitesse $\\vec{v}$ aux pointx $M_3$, $M_5$ et $M_7$\n",
    "* Ajuster l'échelle de la cellule précédente ci-nécessaire (et l'exécuter après chaque changement)\n",
    "</div>"
   ]
  },
  {
   "cell_type": "code",
   "execution_count": null,
   "id": "following-poison",
   "metadata": {},
   "outputs": [],
   "source": [
    " # tracé de la trajectoire\n",
    "plt.plot(x,y,'o:')\n",
    "plt.ylim(0, 1.2*max(y)) \n",
    "plt.xlim(0, 1.2*max(x))\n",
    "# tracé des vecteurs vitesse\n",
    "...\n",
    "...\n",
    "..."
   ]
  },
  {
   "cell_type": "markdown",
   "id": "polyphonic-sweet",
   "metadata": {},
   "source": [
    "<div class=\"alert alert-block alert-success\"> \n",
    "<details>\n",
    "    <summary><b>Aide</b></summary>\n",
    "    \n",
    "   * [Tracer un graphique avec python](https://tube-creteil.beta.education.fr/videos/watch/8ba61fa9-08ac-4e32-947b-dbcafc736fa6) -->  0 à 2'30 \n",
    "   * Il faut appeler la fonction vecteur_vitesse en précisant l'indice du point où on souhaite tracer le vecteur.\n",
    "   * Une instruction pour chaque vecteur souhaité\n",
    "   \n",
    "</details>\n",
    "</div>"
   ]
  },
  {
   "cell_type": "markdown",
   "id": "funded-shoot",
   "metadata": {},
   "source": [
    "<div class=\"alert alert-warning\">\n",
    "<details>\n",
    "    <summary><b>Solution</b></summary>\n",
    "    <p> Copier / coller les lignes suivantes: </p>\n",
    "    \n",
    "plt.plot(x,y,'o:') # tracé de la trajectoire\n",
    "    \n",
    "plt.ylim(0, 1.2*max(y)) \n",
    "    \n",
    "plt.xlim(0, 1.2*max(x))\n",
    "    \n",
    "vect_vitesse(x, y, t, 3)\n",
    "    \n",
    "vect_vitesse(x, y, t, 5)\n",
    "    \n",
    "vect_vitesse(x, y, t, 7)\n",
    "</details>\n",
    "</div>"
   ]
  },
  {
   "cell_type": "markdown",
   "id": "outer-municipality",
   "metadata": {},
   "source": [
    "### 1.3. En utilisant une boucle for <a id=\"boucle_for\">  </a>"
   ]
  },
  {
   "cell_type": "markdown",
   "id": "frozen-authorization",
   "metadata": {},
   "source": [
    "<div class=\"alert alert-block alert-info\">\n",
    "    <b> Consignes </b>\n",
    "    \n",
    "* Ajouter une boucle for permettant de tracer les vecteurs vitesses sur toutes les positions sauf la première et la dernière\n",
    "* Ajuster l'échelle de la cellule précédente ci-nécessaire (et l'exécuter après chaque changement)\n",
    "</div>"
   ]
  },
  {
   "cell_type": "code",
   "execution_count": null,
   "id": "engaged-scottish",
   "metadata": {},
   "outputs": [],
   "source": [
    "plt.plot(x,y,'o:') # tracé de la trajectoire\n",
    "plt.ylim(0, 1.2*max(y))\n",
    "plt.xlim(0, 1.2*max(x))\n",
    "N = len(t) # Nombre de points\n",
    "for ...:\n",
    "    ......."
   ]
  },
  {
   "cell_type": "markdown",
   "id": "incredible-medicine",
   "metadata": {},
   "source": [
    "<div class=\"alert alert-block alert-success\"> \n",
    "<details>\n",
    "    <summary><b>Aide</b></summary>\n",
    "    <ul>\n",
    "        <li> Pour parcourir une liste de N éléments, on utilise -->  for i in range(0,N): </li>\n",
    "        <li> Penser aux \":\" à la fin de la ligne 5 </li>\n",
    "        <li> Penser à l'indentation au début de la ligne 6 </li>\n",
    "    </ul>\n",
    "   \n",
    "</details>\n",
    "</div>"
   ]
  },
  {
   "cell_type": "markdown",
   "id": "worse-campaign",
   "metadata": {},
   "source": [
    "<div class=\"alert alert-warning\">\n",
    "<details>\n",
    "    <summary><b>Solution</b></summary>\n",
    "    <ul>\n",
    "        <li><b>Ligne 5 : </b> for i in range(1, n-1): </li>\n",
    "        <li><b>Ligne 6 : </b> vect_vitesse(x, y, t, i)</li>\n",
    "    </ul>\n",
    "</details>\n",
    "</div>"
   ]
  },
  {
   "cell_type": "markdown",
   "id": "enabling-skirt",
   "metadata": {},
   "source": [
    "## 2. Le vecteur variation de vitesse"
   ]
  },
  {
   "cell_type": "markdown",
   "id": "checked-record",
   "metadata": {},
   "source": [
    "### 2.1. Une fonction pour tracer le vecteur $\\vec{\\Delta v}$ <a id=\"vect_delta_v\"> </a>"
   ]
  },
  {
   "cell_type": "markdown",
   "id": "pharmaceutical-leave",
   "metadata": {},
   "source": [
    "<div class=\"alert alert-block alert-info\">\n",
    "    <b> Consigne </b>\n",
    "    \n",
    "* Compléter le script pour que la fonction trace le vecteur  $\\vec{\\Delta v}$ au point i\n",
    "</div>"
   ]
  },
  {
   "cell_type": "code",
   "execution_count": 81,
   "id": "descending-federation",
   "metadata": {},
   "outputs": [],
   "source": [
    "def vect_delta_v(x, y, t, i):\n",
    "    '''x , y et t : listes des coordonnées de la trajectoires et des dates\n",
    "    i : indice du point pour lequel on souhaite tracer le vecteur delta_v'''\n",
    "\n",
    "    dt = t[1] - t[0]\n",
    "# détermination des coordonnées du vecteur vitesse de la position M_i-1\n",
    "    vx1 = (x[i] - x[i-2]) / (2*dt)\n",
    "    vy1 = (y[i] - y[i-2]) / (2*dt)\n",
    "# détermination des coordonnées du vecteur vitesse de la position M_i+1\n",
    "    vx2 = ...\n",
    "    vy2 = ...\n",
    "# détermination des coordonnées du vecteur delta_v de la position M_i\n",
    "    dvx = ...\n",
    "    dvy = ...\n",
    "#Tracer du vecteur\n",
    "    vect_dv = plt.quiver(..., ..., ..., ..., angles='xy', scale_units='xy', scale=4, color=\"red\")"
   ]
  },
  {
   "cell_type": "markdown",
   "id": "sound-tutorial",
   "metadata": {},
   "source": [
    "<div class=\"alert alert-block alert-success\"> \n",
    "<details>\n",
    "    <summary><b>Aide</b></summary>\n",
    "    \n",
    "   * Pour tracer le vecteur vitesse au point  $M_{i+1}$, il faut le point suivant ($M_{i+2}$) et le point précédent ($M_{i}$).\n",
    "   * L'addition ou la différence de deux vecteur s'optient par addition ou différence de leurs coordonnées.\n",
    "   \n",
    "</details>\n",
    "</div>"
   ]
  },
  {
   "cell_type": "markdown",
   "id": "cosmetic-cooper",
   "metadata": {},
   "source": [
    "<div class=\"alert alert-warning\">\n",
    "<details>\n",
    "    <summary><b>Solution</b></summary>\n",
    "    <ul>\n",
    "        <li><b>Ligne 10: </b> vx2 = (x[i+2] - x[i]) / (2*dt)</li>\n",
    "        <li><b>Ligne 11: </b> vy2 = (y[i+2] - y[i]) / (2*dt)</li>\n",
    "        <li><b>Ligne 13: </b> dvx = vx2 - vx1 </li>\n",
    "        <li><b>Ligne 14: </b> dvy = vy2 - vy1 </li>\n",
    "        <li><b>Ligne 16: </b> vect_dv = plt.quiver(x[i], y[i], dvx, dvy, angles='xy', scale_units='xy', scale=4, color=\"red\")</li>\n",
    "    </ul>\n",
    "</details>\n",
    "</div>"
   ]
  },
  {
   "cell_type": "markdown",
   "id": "breathing-lyric",
   "metadata": {},
   "source": [
    "### 2.2. Utiliser la fonction pour tracer des vecteurs $\\vec{\\Delta v}$"
   ]
  },
  {
   "cell_type": "markdown",
   "id": "minimal-hazard",
   "metadata": {},
   "source": [
    "<div class=\"alert alert-block alert-info\">\n",
    "    <b> Consigne </b>\n",
    "    <p> Comptéter le script pour tracer: </p>\n",
    "    <ul>\n",
    "        <li> les vecteurs vitesse $\\vec{v_5}$ et $\\vec{v_7}$ </li> \n",
    "        <li> le vecteur  $\\vec{\\Delta v_6}$ au point $M_2$ </li>\n",
    "</div>"
   ]
  },
  {
   "cell_type": "code",
   "execution_count": null,
   "id": "functioning-investigator",
   "metadata": {},
   "outputs": [],
   "source": [
    "plt.plot(x,y,'o:')\n",
    "plt.ylim(0, 1.2*max(y))\n",
    "plt.xlim(0, 1.2*max(x))\n",
    "...\n",
    "...\n",
    "...\n",
    "plt.show()"
   ]
  },
  {
   "cell_type": "markdown",
   "id": "exposed-cleaning",
   "metadata": {},
   "source": [
    "<div class=\"alert alert-block alert-success\"> \n",
    "<details>\n",
    "    <summary><b>Aide</b></summary>\n",
    "    \n",
    "   * Il faut appeler la fonction vec_vitesse pour les points $M_5$ et $M_7$\n",
    "   * Il faut appeler la fonction vect_delta_v pour le points $M_6$\n",
    "   \n",
    "</details>\n",
    "</div>"
   ]
  },
  {
   "cell_type": "markdown",
   "id": "regional-enforcement",
   "metadata": {},
   "source": [
    "<div class=\"alert alert-warning\">\n",
    "<details>\n",
    "    <summary><b>Solution</b></summary>\n",
    "    <ul>\n",
    "        <li><b> Ligne 4: </b> vect_vitesse(x, y, t, 5) </li>\n",
    "        <li><b> Ligne 5: </b> vect_vitesse(x, y, t, 7) </li>\n",
    "        <li><b> Ligne 6: </b> vect_delta_v(x, y, t, 6) </li>\n",
    "    </ul>\n",
    "</details>\n",
    "</div>"
   ]
  },
  {
   "cell_type": "markdown",
   "id": "governing-missouri",
   "metadata": {},
   "source": [
    "### 2.3. Et en utilisant une boucle for"
   ]
  },
  {
   "cell_type": "markdown",
   "id": "legendary-chamber",
   "metadata": {},
   "source": [
    "<div class=\"alert alert-block alert-info\">\n",
    "    <b> Consigne </b>\n",
    "    <p> Ajouter une boucle for permettant de tracer tout les vecteur $\\vec{\\Delta v}$ pour tous les points <b>sauf les deux premiers et les deux dernier</b></p>\n",
    " \n",
    "</div>"
   ]
  },
  {
   "cell_type": "code",
   "execution_count": null,
   "id": "blessed-macintosh",
   "metadata": {},
   "outputs": [],
   "source": [
    "plt.plot(x,y,'o:')\n",
    "plt.ylim(0, 1.2*max(y))\n",
    "plt.xlim(0, 1.2*max(x))\n",
    "N = len(t)\n",
    "for ... :\n",
    "    ..............\n",
    "plt.show()"
   ]
  },
  {
   "cell_type": "markdown",
   "id": "flying-merchandise",
   "metadata": {},
   "source": [
    "<div class=\"alert alert-block alert-success\"> \n",
    "<details>\n",
    "    <summary><b>Aide</b></summary>\n",
    "    \n",
    "[](#boucle_for)\n",
    "<a href=\"#boucle_for\">Voir le corrigé du 1.3.</a> \n",
    "   \n",
    "</details>\n",
    "</div>"
   ]
  },
  {
   "cell_type": "markdown",
   "id": "fourth-arrival",
   "metadata": {},
   "source": [
    "<div class=\"alert alert-warning\">\n",
    "<details>\n",
    "    <summary><b>Solution</b></summary>\n",
    "     <ul>\n",
    "        <li><b>Ligne 5 : </b> for i in range(2, n-2): </li>\n",
    "        <li><b>Ligne 6 : </b> vect_vitesse(x, y, t, i)</li>\n",
    "    </ul>\n",
    "</details>\n",
    "</div>"
   ]
  },
  {
   "cell_type": "markdown",
   "id": "applied-first",
   "metadata": {},
   "source": [
    "## 3. En utilisant la définition de 2de"
   ]
  },
  {
   "cell_type": "markdown",
   "id": "warming-benchmark",
   "metadata": {},
   "source": [
    "<div class=\"alert alert-block alert-info\">\n",
    "    <b> Consigne </b>\n",
    "    <p> Copier / coller dans la cellule suivante le code de  <a href=\"#vect_vit\">la partie 1.1. </a> et le modifier pour calculer les vecteur vitesse à l'aide de la méthode du \"point suivant\" vue en 2de</p>\n",
    " \n",
    "</div>"
   ]
  },
  {
   "cell_type": "code",
   "execution_count": null,
   "id": "indirect-concern",
   "metadata": {},
   "outputs": [],
   "source": []
  },
  {
   "cell_type": "markdown",
   "id": "sharing-forwarding",
   "metadata": {},
   "source": [
    "<div class=\"alert alert-block alert-success\"> \n",
    "<details>\n",
    "    <summary><b>Aide</b></summary>\n",
    "<ul>\n",
    "    <li> On considère le point $M_i$ et le point suivant $M_{i+1}$</li>\n",
    "    <li> La durée entre ces deux position est donc deux fois plus faible qu'avec définition précédente </li>\n",
    "    <li> Les deux seules lignes à modifier sont la 5 et la 6\n",
    "</details>\n",
    "</div>"
   ]
  },
  {
   "cell_type": "markdown",
   "id": "generic-characteristic",
   "metadata": {},
   "source": [
    "<div class=\"alert alert-warning\">\n",
    "<details>\n",
    "    <summary><b>Solution</b></summary>\n",
    "     <ul>\n",
    "        <li><b>Ligne 5 : </b> vx_i = (x[i+1] - x[i]) / dt </li>\n",
    "        <li><b>Ligne 6 : </b> vy_i = vy_i = (y[i+1] - y[i) / dt </li>\n",
    "    </ul>\n",
    "</details>\n",
    "</div>"
   ]
  },
  {
   "cell_type": "markdown",
   "id": "chubby-savannah",
   "metadata": {},
   "source": [
    "<div class=\"alert alert-block alert-info\">\n",
    "    <b> Consigne </b>\n",
    "    <p> Copier / coller dans la cellule suivante le code de  <a href=\"#vect_delta_v\">la partie 2.1. </a> et le modifier pour calculer les vecteur variation de vitesse vitesse à l'aide de la méthode du \"point suivant\" vue en 2de</p>\n",
    " \n",
    "</div>"
   ]
  },
  {
   "cell_type": "code",
   "execution_count": null,
   "id": "armed-python",
   "metadata": {},
   "outputs": [],
   "source": []
  },
  {
   "cell_type": "markdown",
   "id": "white-vacation",
   "metadata": {},
   "source": [
    "<div class=\"alert alert-block alert-success\"> \n",
    "<details>\n",
    "    <summary><b>Aide</b></summary>\n",
    "    <ul>\n",
    "        <li> Pour tracer le vecteur vitesse au point  $M_{i+1}$, il faut le point suivant ($M_{i+2}$) et le point ($M_{i+1}$)</li>\n",
    "        <li> Pour tracer le vecteur vitesse au point  $M_{i-1}$, il faut le point suivant ($M_{i}$) et le point ($M_{i-1}$)</li>\n",
    "        <li> Il faut modifier les lignes 7, 8, 10 et 11 </li>\n",
    "</details>\n",
    "</div>"
   ]
  },
  {
   "cell_type": "markdown",
   "id": "systematic-convertible",
   "metadata": {},
   "source": [
    "<div class=\"alert alert-warning\">\n",
    "<details>\n",
    "    <summary><b>Solution</b></summary>\n",
    "     <ul>\n",
    "        <li><b>Ligne 7 : </b> vx1 = (x[i] - x[i-1]) / dt </li>\n",
    "        <li><b>Ligne 8 : </b>  vy1 = (y[i] - y[i-1]) / dt </li>\n",
    "        <li><b>Ligne 10 : </b> vx2 = (x[i+2] - x[i+1]) / dt </li>\n",
    "        <li><b>Ligne 11 : </b> vy2 = (y[i+2] - y[i+1]) / dt </li>\n",
    "    </ul>\n",
    "</details>\n",
    "</div>"
   ]
  },
  {
   "cell_type": "markdown",
   "id": "promising-jewel",
   "metadata": {},
   "source": [
    "<div class=\"alert alert-block alert-info\">\n",
    "    <b> Consigne </b>\n",
    "    <ul>\n",
    "        <li> Exécuter la cellule suivante</li>\n",
    "        <li> Noter dans le compte rendu la différence observé avec la méthode précédente </li>\n",
    "    </ul>\n",
    "</div>"
   ]
  },
  {
   "cell_type": "code",
   "execution_count": null,
   "id": "excellent-actress",
   "metadata": {},
   "outputs": [],
   "source": [
    "plt.plot(x,y,'o:')\n",
    "plt.ylim(0, 1.2*max(y))\n",
    "plt.xlim(0, 1.2*max(x))\n",
    "for i in range(1, len(t)-1):\n",
    "    vect_vitesse(x, y, t, i)\n",
    "plt.show()\n",
    "\n",
    "plt.plot(x,y,'o:')\n",
    "plt.ylim(0, 1.2*max(y))\n",
    "plt.xlim(0, 1.2*max(x))\n",
    "for i in range(2, len(t)-2):\n",
    "    vect_delta_v(x, y, t, i)\n",
    "plt.show()\n",
    "\n",
    "print(\"Si les vecteurs variation de vitesse ne sont pas verticaux, c'est normal\")"
   ]
  },
  {
   "cell_type": "code",
   "execution_count": null,
   "id": "intellectual-amateur",
   "metadata": {},
   "outputs": [],
   "source": []
  }
 ],
 "metadata": {
  "kernelspec": {
   "display_name": "Python 3",
   "language": "python",
   "name": "python3"
  },
  "language_info": {
   "codemirror_mode": {
    "name": "ipython",
    "version": 3
   },
   "file_extension": ".py",
   "mimetype": "text/x-python",
   "name": "python",
   "nbconvert_exporter": "python",
   "pygments_lexer": "ipython3",
   "version": "3.7.9"
  }
 },
 "nbformat": 4,
 "nbformat_minor": 5
}
